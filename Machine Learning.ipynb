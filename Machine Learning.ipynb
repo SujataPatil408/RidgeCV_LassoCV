{
 "cells": [
  {
   "cell_type": "code",
   "execution_count": 1,
   "id": "07dbfd87",
   "metadata": {},
   "outputs": [],
   "source": [
    "import pandas as pd\n",
    "student_df=pd.read_csv(\"E:\\Excelr Data\\DataScience\\student_info.csv\")"
   ]
  },
  {
   "cell_type": "code",
   "execution_count": 2,
   "id": "daa02f9f",
   "metadata": {},
   "outputs": [
    {
     "data": {
      "text/html": [
       "<div>\n",
       "<style scoped>\n",
       "    .dataframe tbody tr th:only-of-type {\n",
       "        vertical-align: middle;\n",
       "    }\n",
       "\n",
       "    .dataframe tbody tr th {\n",
       "        vertical-align: top;\n",
       "    }\n",
       "\n",
       "    .dataframe thead th {\n",
       "        text-align: right;\n",
       "    }\n",
       "</style>\n",
       "<table border=\"1\" class=\"dataframe\">\n",
       "  <thead>\n",
       "    <tr style=\"text-align: right;\">\n",
       "      <th></th>\n",
       "      <th>study_hours</th>\n",
       "      <th>student_marks</th>\n",
       "    </tr>\n",
       "  </thead>\n",
       "  <tbody>\n",
       "    <tr>\n",
       "      <th>0</th>\n",
       "      <td>6.83</td>\n",
       "      <td>78.50</td>\n",
       "    </tr>\n",
       "    <tr>\n",
       "      <th>1</th>\n",
       "      <td>6.56</td>\n",
       "      <td>76.74</td>\n",
       "    </tr>\n",
       "    <tr>\n",
       "      <th>2</th>\n",
       "      <td>NaN</td>\n",
       "      <td>78.68</td>\n",
       "    </tr>\n",
       "  </tbody>\n",
       "</table>\n",
       "</div>"
      ],
      "text/plain": [
       "   study_hours  student_marks\n",
       "0         6.83          78.50\n",
       "1         6.56          76.74\n",
       "2          NaN          78.68"
      ]
     },
     "execution_count": 2,
     "metadata": {},
     "output_type": "execute_result"
    }
   ],
   "source": [
    "student_df.head(3)"
   ]
  },
  {
   "cell_type": "code",
   "execution_count": 3,
   "id": "30e01537",
   "metadata": {},
   "outputs": [
    {
     "data": {
      "text/html": [
       "<div>\n",
       "<style scoped>\n",
       "    .dataframe tbody tr th:only-of-type {\n",
       "        vertical-align: middle;\n",
       "    }\n",
       "\n",
       "    .dataframe tbody tr th {\n",
       "        vertical-align: top;\n",
       "    }\n",
       "\n",
       "    .dataframe thead th {\n",
       "        text-align: right;\n",
       "    }\n",
       "</style>\n",
       "<table border=\"1\" class=\"dataframe\">\n",
       "  <thead>\n",
       "    <tr style=\"text-align: right;\">\n",
       "      <th></th>\n",
       "      <th>study_hours</th>\n",
       "      <th>student_marks</th>\n",
       "    </tr>\n",
       "  </thead>\n",
       "  <tbody>\n",
       "    <tr>\n",
       "      <th>count</th>\n",
       "      <td>195.000000</td>\n",
       "      <td>200.00000</td>\n",
       "    </tr>\n",
       "    <tr>\n",
       "      <th>mean</th>\n",
       "      <td>6.995949</td>\n",
       "      <td>77.93375</td>\n",
       "    </tr>\n",
       "    <tr>\n",
       "      <th>std</th>\n",
       "      <td>1.253060</td>\n",
       "      <td>4.92570</td>\n",
       "    </tr>\n",
       "    <tr>\n",
       "      <th>min</th>\n",
       "      <td>5.010000</td>\n",
       "      <td>68.57000</td>\n",
       "    </tr>\n",
       "    <tr>\n",
       "      <th>25%</th>\n",
       "      <td>5.775000</td>\n",
       "      <td>73.38500</td>\n",
       "    </tr>\n",
       "    <tr>\n",
       "      <th>50%</th>\n",
       "      <td>7.120000</td>\n",
       "      <td>77.71000</td>\n",
       "    </tr>\n",
       "    <tr>\n",
       "      <th>75%</th>\n",
       "      <td>8.085000</td>\n",
       "      <td>82.32000</td>\n",
       "    </tr>\n",
       "    <tr>\n",
       "      <th>max</th>\n",
       "      <td>8.990000</td>\n",
       "      <td>86.99000</td>\n",
       "    </tr>\n",
       "  </tbody>\n",
       "</table>\n",
       "</div>"
      ],
      "text/plain": [
       "       study_hours  student_marks\n",
       "count   195.000000      200.00000\n",
       "mean      6.995949       77.93375\n",
       "std       1.253060        4.92570\n",
       "min       5.010000       68.57000\n",
       "25%       5.775000       73.38500\n",
       "50%       7.120000       77.71000\n",
       "75%       8.085000       82.32000\n",
       "max       8.990000       86.99000"
      ]
     },
     "execution_count": 3,
     "metadata": {},
     "output_type": "execute_result"
    }
   ],
   "source": [
    "student_df.describe()"
   ]
  },
  {
   "cell_type": "code",
   "execution_count": 4,
   "id": "2a01bc6d",
   "metadata": {},
   "outputs": [
    {
     "name": "stdout",
     "output_type": "stream",
     "text": [
      "<class 'pandas.core.frame.DataFrame'>\n",
      "RangeIndex: 200 entries, 0 to 199\n",
      "Data columns (total 2 columns):\n",
      " #   Column         Non-Null Count  Dtype  \n",
      "---  ------         --------------  -----  \n",
      " 0   study_hours    195 non-null    float64\n",
      " 1   student_marks  200 non-null    float64\n",
      "dtypes: float64(2)\n",
      "memory usage: 3.2 KB\n"
     ]
    }
   ],
   "source": [
    "student_df.info()"
   ]
  },
  {
   "cell_type": "code",
   "execution_count": 5,
   "id": "117dc88c",
   "metadata": {},
   "outputs": [],
   "source": [
    "import numpy as np\n",
    "from sklearn.linear_model import LinearRegression\n",
    "import matplotlib.pyplot as plt\n",
    "import seaborn as sns\n"
   ]
  },
  {
   "cell_type": "code",
   "execution_count": 6,
   "id": "280d7250",
   "metadata": {},
   "outputs": [
    {
     "ename": "NameError",
     "evalue": "name 'warning' is not defined",
     "output_type": "error",
     "traceback": [
      "\u001b[1;31m---------------------------------------------------------------------------\u001b[0m",
      "\u001b[1;31mNameError\u001b[0m                                 Traceback (most recent call last)",
      "\u001b[1;32m~\\AppData\\Local\\Temp\\ipykernel_2900\\844012983.py\u001b[0m in \u001b[0;36m<module>\u001b[1;34m\u001b[0m\n\u001b[0;32m      1\u001b[0m \u001b[1;32mimport\u001b[0m \u001b[0mwarnings\u001b[0m\u001b[1;33m\u001b[0m\u001b[1;33m\u001b[0m\u001b[0m\n\u001b[1;32m----> 2\u001b[1;33m \u001b[0mwarning\u001b[0m\u001b[1;33m.\u001b[0m\u001b[0mfilterwarnings\u001b[0m\u001b[1;33m(\u001b[0m\u001b[1;34m'ignore'\u001b[0m\u001b[1;33m)\u001b[0m\u001b[1;33m\u001b[0m\u001b[1;33m\u001b[0m\u001b[0m\n\u001b[0m\u001b[0;32m      3\u001b[0m \u001b[0mget_ipython\u001b[0m\u001b[1;33m(\u001b[0m\u001b[1;33m)\u001b[0m\u001b[1;33m.\u001b[0m\u001b[0mrun_line_magic\u001b[0m\u001b[1;33m(\u001b[0m\u001b[1;34m'matplotlib'\u001b[0m\u001b[1;33m,\u001b[0m \u001b[1;34m'inline'\u001b[0m\u001b[1;33m)\u001b[0m\u001b[1;33m\u001b[0m\u001b[1;33m\u001b[0m\u001b[0m\n",
      "\u001b[1;31mNameError\u001b[0m: name 'warning' is not defined"
     ]
    }
   ],
   "source": [
    "import warnings\n",
    "warning.filterwarnings('ignore')\n",
    "%matplotlib inline"
   ]
  },
  {
   "cell_type": "code",
   "execution_count": 7,
   "id": "30a3db2e",
   "metadata": {},
   "outputs": [
    {
     "name": "stdout",
     "output_type": "stream",
     "text": [
      "Avg hrs study: 6.9959487179487185 Avg marks: 77.93375000000003\n"
     ]
    }
   ],
   "source": [
    "mean_hrs=student_df['study_hours'].mean()\n",
    "mean_marks=student_df['student_marks'].mean()\n",
    "print(\"Avg hrs study:\",mean_hrs,\"Avg marks:\",mean_marks)"
   ]
  },
  {
   "cell_type": "code",
   "execution_count": 8,
   "id": "0d638594",
   "metadata": {},
   "outputs": [
    {
     "data": {
      "text/plain": [
       "study_hours      5\n",
       "student_marks    0\n",
       "dtype: int64"
      ]
     },
     "execution_count": 8,
     "metadata": {},
     "output_type": "execute_result"
    }
   ],
   "source": [
    "student_df.isnull().sum()"
   ]
  },
  {
   "cell_type": "code",
   "execution_count": 9,
   "id": "49f38649",
   "metadata": {},
   "outputs": [],
   "source": [
    "student_df['study_hours']=student_df['study_hours'].fillna(mean_hrs)"
   ]
  },
  {
   "cell_type": "code",
   "execution_count": 10,
   "id": "bcc203fa",
   "metadata": {},
   "outputs": [
    {
     "data": {
      "text/plain": [
       "study_hours      0\n",
       "student_marks    0\n",
       "dtype: int64"
      ]
     },
     "execution_count": 10,
     "metadata": {},
     "output_type": "execute_result"
    }
   ],
   "source": [
    "student_df.isnull().sum()"
   ]
  },
  {
   "cell_type": "code",
   "execution_count": 11,
   "id": "bdbb1e18",
   "metadata": {},
   "outputs": [
    {
     "name": "stdout",
     "output_type": "stream",
     "text": [
      "Avg hrs study: 6.9959487179487185 Avg marks: 77.93375000000003\n"
     ]
    }
   ],
   "source": [
    "mean_hrs=student_df['study_hours'].mean()\n",
    "mean_marks=student_df['student_marks'].mean()\n",
    "print(\"Avg hrs study:\",mean_hrs,\"Avg marks:\",mean_marks)"
   ]
  },
  {
   "cell_type": "code",
   "execution_count": 12,
   "id": "77b99757",
   "metadata": {},
   "outputs": [],
   "source": [
    "#target variable y - marks\n",
    "#response variable x - hours\n"
   ]
  },
  {
   "cell_type": "code",
   "execution_count": 13,
   "id": "a4882d31",
   "metadata": {},
   "outputs": [],
   "source": [
    "X=pd.DataFrame(student_df['study_hours'])\n",
    "y=student_df['student_marks']"
   ]
  },
  {
   "cell_type": "code",
   "execution_count": 14,
   "id": "27ccbc10",
   "metadata": {},
   "outputs": [
    {
     "data": {
      "text/plain": [
       "((200, 1), (200,))"
      ]
     },
     "execution_count": 14,
     "metadata": {},
     "output_type": "execute_result"
    }
   ],
   "source": [
    "X.shape, y.shape"
   ]
  },
  {
   "cell_type": "code",
   "execution_count": 15,
   "id": "de5ce2a7",
   "metadata": {},
   "outputs": [
    {
     "data": {
      "text/plain": [
       "<Axes: xlabel='study_hours', ylabel='student_marks'>"
      ]
     },
     "execution_count": 15,
     "metadata": {},
     "output_type": "execute_result"
    },
    {
     "data": {
      "image/png": "[encoded data removed]",
      "text/plain": [
       "<Figure size 640x480 with 1 Axes>"
      ]
     },
     "metadata": {},
     "output_type": "display_data"
    }
   ],
   "source": [
    "sns.scatterplot(x='study_hours',y='student_marks', data=student_df)"
   ]
  },
  {
   "cell_type": "code",
   "execution_count": 16,
   "id": "0b3c33a5",
   "metadata": {},
   "outputs": [
    {
     "data": {
      "text/plain": [
       "Text(0, 0.5, 'student study marks')"
      ]
     },
     "execution_count": 16,
     "metadata": {},
     "output_type": "execute_result"
    },
    {
     "data": {
      "image/png": "[encoded data removed]",
      "text/plain": [
       "<Figure size 640x480 with 1 Axes>"
      ]
     },
     "metadata": {},
     "output_type": "display_data"
    }
   ],
   "source": [
    "plt.scatter(X,y)\n",
    "plt.xlabel('students study hours in hours')\n",
    "plt.ylabel('student study marks')"
   ]
  },
  {
   "cell_type": "code",
   "execution_count": 17,
   "id": "a6ebe81e",
   "metadata": {},
   "outputs": [],
   "source": [
    "corr=student_df['study_hours'].corr(student_df['student_marks'])"
   ]
  },
  {
   "cell_type": "code",
   "execution_count": 18,
   "id": "ca7c9c4e",
   "metadata": {},
   "outputs": [
    {
     "data": {
      "text/plain": [
       "0.9786955883159015"
      ]
     },
     "execution_count": 18,
     "metadata": {},
     "output_type": "execute_result"
    }
   ],
   "source": [
    "# if value >0.5 strongly related and if <5 not stongly related\n",
    "corr"
   ]
  },
  {
   "cell_type": "code",
   "execution_count": 19,
   "id": "f3a3b976",
   "metadata": {},
   "outputs": [],
   "source": [
    "# Simple Linear Regression Analysis"
   ]
  },
  {
   "cell_type": "code",
   "execution_count": 20,
   "id": "4de33ece",
   "metadata": {},
   "outputs": [
    {
     "data": {
      "text/plain": [
       "LinearRegression()"
      ]
     },
     "execution_count": 20,
     "metadata": {},
     "output_type": "execute_result"
    }
   ],
   "source": [
    "Linear_model = LinearRegression()\n",
    "Linear_model.fit(X,y)"
   ]
  },
  {
   "cell_type": "code",
   "execution_count": 21,
   "id": "c3a7f0a3",
   "metadata": {},
   "outputs": [
    {
     "name": "stdout",
     "output_type": "stream",
     "text": [
      "R2 score is 0.96\n"
     ]
    }
   ],
   "source": [
    "R2=Linear_model.score(X,y)\n",
    "print(f'R2 score is {round(R2,2)}')"
   ]
  },
  {
   "cell_type": "code",
   "execution_count": 22,
   "id": "c74025cd",
   "metadata": {},
   "outputs": [],
   "source": [
    "#R2 score is high so we can go for prediction"
   ]
  },
  {
   "cell_type": "code",
   "execution_count": 23,
   "id": "3efc7c77",
   "metadata": {},
   "outputs": [
    {
     "name": "stdout",
     "output_type": "stream",
     "text": [
      "Enter:How many hours for daily you study: \n"
     ]
    },
    {
     "ename": "ValueError",
     "evalue": "invalid literal for int() with base 10: ''",
     "output_type": "error",
     "traceback": [
      "\u001b[1;31m---------------------------------------------------------------------------\u001b[0m",
      "\u001b[1;31mValueError\u001b[0m                                Traceback (most recent call last)",
      "\u001b[1;32m~\\AppData\\Local\\Temp\\ipykernel_2900\\1571121225.py\u001b[0m in \u001b[0;36m<module>\u001b[1;34m\u001b[0m\n\u001b[1;32m----> 1\u001b[1;33m \u001b[0mst_hr\u001b[0m\u001b[1;33m=\u001b[0m\u001b[0mnp\u001b[0m\u001b[1;33m.\u001b[0m\u001b[0marray\u001b[0m\u001b[1;33m(\u001b[0m\u001b[0mint\u001b[0m\u001b[1;33m(\u001b[0m\u001b[0minput\u001b[0m\u001b[1;33m(\u001b[0m\u001b[1;34m'Enter:How many hours for daily you study: '\u001b[0m\u001b[1;33m)\u001b[0m\u001b[1;33m)\u001b[0m\u001b[1;33m,\u001b[0m\u001b[0mndmin\u001b[0m\u001b[1;33m=\u001b[0m\u001b[1;36m2\u001b[0m\u001b[1;33m)\u001b[0m\u001b[1;33m\u001b[0m\u001b[1;33m\u001b[0m\u001b[0m\n\u001b[0m\u001b[0;32m      2\u001b[0m \u001b[1;33m\u001b[0m\u001b[0m\n\u001b[0;32m      3\u001b[0m \u001b[1;32mif\u001b[0m \u001b[0mst_hr\u001b[0m\u001b[1;33m<=\u001b[0m\u001b[1;36m0\u001b[0m \u001b[1;32mor\u001b[0m \u001b[0mst_hr\u001b[0m\u001b[1;33m>\u001b[0m\u001b[1;36m10\u001b[0m\u001b[1;33m:\u001b[0m\u001b[1;33m\u001b[0m\u001b[1;33m\u001b[0m\u001b[0m\n\u001b[0;32m      4\u001b[0m     \u001b[0mprint\u001b[0m\u001b[1;33m(\u001b[0m\u001b[1;34m'Give the hours between 1 to 10'\u001b[0m\u001b[1;33m)\u001b[0m\u001b[1;33m\u001b[0m\u001b[1;33m\u001b[0m\u001b[0m\n\u001b[0;32m      5\u001b[0m \u001b[1;32melse\u001b[0m\u001b[1;33m:\u001b[0m\u001b[1;33m\u001b[0m\u001b[1;33m\u001b[0m\u001b[0m\n",
      "\u001b[1;31mValueError\u001b[0m: invalid literal for int() with base 10: ''"
     ]
    }
   ],
   "source": [
    "st_hr=np.array(int(input('Enter:How many hours for daily you study: ')),ndmin=2)\n",
    "\n",
    "if st_hr<=0 or st_hr>10:\n",
    "    print('Give the hours between 1 to 10')\n",
    "else:\n",
    "    scor_marks=Linear_model.predict(st_hr)\n",
    "    print(f'If you study for {st_hr[0,0]} You will score {round(scor_marks[0],2)}%')"
   ]
  },
  {
   "cell_type": "code",
   "execution_count": 24,
   "id": "6291f010",
   "metadata": {},
   "outputs": [],
   "source": [
    "# Loading and Fitting the linear equation model from statsmodels library"
   ]
  },
  {
   "cell_type": "code",
   "execution_count": 25,
   "id": "e3d3f6eb",
   "metadata": {},
   "outputs": [
    {
     "data": {
      "text/html": [
       "<table class=\"simpletable\">\n",
       "<tr>\n",
       "          <td>Model:</td>                 <td>OLS</td>       <td>Adj. R-squared (uncentered):</td>   <td>0.987</td>  \n",
       "</tr>\n",
       "<tr>\n",
       "    <td>Dependent Variable:</td>     <td>student_marks</td>              <td>AIC:</td>             <td>1442.2349</td>\n",
       "</tr>\n",
       "<tr>\n",
       "           <td>Date:</td>          <td>2024-07-18 09:26</td>             <td>BIC:</td>             <td>1445.5333</td>\n",
       "</tr>\n",
       "<tr>\n",
       "     <td>No. Observations:</td>           <td>200</td>              <td>Log-Likelihood:</td>        <td>-720.12</td> \n",
       "</tr>\n",
       "<tr>\n",
       "         <td>Df Model:</td>                <td>1</td>                <td>F-statistic:</td>         <td>1.526e+04</td>\n",
       "</tr>\n",
       "<tr>\n",
       "       <td>Df Residuals:</td>             <td>199</td>            <td>Prob (F-statistic):</td>     <td>4.77e-190</td>\n",
       "</tr>\n",
       "<tr>\n",
       "  <td>R-squared (uncentered):</td>       <td>0.987</td>                 <td>Scale:</td>             <td>78.910</td>  \n",
       "</tr>\n",
       "</table>\n",
       "<table class=\"simpletable\">\n",
       "<tr>\n",
       "       <td></td>        <th>Coef.</th>  <th>Std.Err.</th>     <th>t</th>     <th>P>|t|</th> <th>[0.025</th>  <th>0.975]</th> \n",
       "</tr>\n",
       "<tr>\n",
       "  <th>study_hours</th> <td>10.9212</td>  <td>0.0884</td>  <td>123.5155</td> <td>0.0000</td> <td>10.7469</td> <td>11.0956</td>\n",
       "</tr>\n",
       "</table>\n",
       "<table class=\"simpletable\">\n",
       "<tr>\n",
       "     <td>Omnibus:</td>    <td>178.099</td>  <td>Durbin-Watson:</td>    <td>2.037</td>\n",
       "</tr>\n",
       "<tr>\n",
       "  <td>Prob(Omnibus):</td>  <td>0.000</td>  <td>Jarque-Bera (JB):</td> <td>14.346</td>\n",
       "</tr>\n",
       "<tr>\n",
       "       <td>Skew:</td>      <td>0.078</td>      <td>Prob(JB):</td>      <td>0.001</td>\n",
       "</tr>\n",
       "<tr>\n",
       "     <td>Kurtosis:</td>    <td>1.697</td>   <td>Condition No.:</td>      <td>1</td>  \n",
       "</tr>\n",
       "</table>"
      ],
      "text/plain": [
       "<class 'statsmodels.iolib.summary2.Summary'>\n",
       "\"\"\"\n",
       "                        Results: Ordinary least squares\n",
       "===============================================================================\n",
       "Model:                  OLS              Adj. R-squared (uncentered): 0.987    \n",
       "Dependent Variable:     student_marks    AIC:                         1442.2349\n",
       "Date:                   2024-07-18 09:26 BIC:                         1445.5333\n",
       "No. Observations:       200              Log-Likelihood:              -720.12  \n",
       "Df Model:               1                F-statistic:                 1.526e+04\n",
       "Df Residuals:           199              Prob (F-statistic):          4.77e-190\n",
       "R-squared (uncentered): 0.987            Scale:                       78.910   \n",
       "----------------------------------------------------------------------------------\n",
       "                    Coef.     Std.Err.       t        P>|t|      [0.025     0.975]\n",
       "----------------------------------------------------------------------------------\n",
       "study_hours        10.9212      0.0884    123.5155    0.0000    10.7469    11.0956\n",
       "-------------------------------------------------------------------------------\n",
       "Omnibus:                   178.099           Durbin-Watson:              2.037 \n",
       "Prob(Omnibus):             0.000             Jarque-Bera (JB):           14.346\n",
       "Skew:                      0.078             Prob(JB):                   0.001 \n",
       "Kurtosis:                  1.697             Condition No.:              1     \n",
       "===============================================================================\n",
       "\n",
       "\"\"\""
      ]
     },
     "execution_count": 25,
     "metadata": {},
     "output_type": "execute_result"
    }
   ],
   "source": [
    "import statsmodels.api as sm\n",
    "mlr_model=sm.OLS(y, X).fit()  # Ordinary list Square method\n",
    "mlr_model.summary2()"
   ]
  },
  {
   "cell_type": "code",
   "execution_count": 26,
   "id": "06f61769",
   "metadata": {},
   "outputs": [
    {
     "data": {
      "text/html": [
       "<table class=\"simpletable\">\n",
       "<tr>\n",
       "        <td>Model:</td>               <td>OLS</td>         <td>Adj. R-squared:</td>     <td>0.958</td>  \n",
       "</tr>\n",
       "<tr>\n",
       "  <td>Dependent Variable:</td>   <td>student_marks</td>         <td>AIC:</td>         <td>575.0788</td> \n",
       "</tr>\n",
       "<tr>\n",
       "         <td>Date:</td>        <td>2024-07-18 09:26</td>        <td>BIC:</td>         <td>581.6754</td> \n",
       "</tr>\n",
       "<tr>\n",
       "   <td>No. Observations:</td>         <td>200</td>         <td>Log-Likelihood:</td>    <td>-285.54</td> \n",
       "</tr>\n",
       "<tr>\n",
       "       <td>Df Model:</td>              <td>1</td>           <td>F-statistic:</td>       <td>4499.</td>  \n",
       "</tr>\n",
       "<tr>\n",
       "     <td>Df Residuals:</td>           <td>198</td>       <td>Prob (F-statistic):</td> <td>4.19e-138</td>\n",
       "</tr>\n",
       "<tr>\n",
       "      <td>R-squared:</td>            <td>0.958</td>            <td>Scale:</td>         <td>1.0280</td>  \n",
       "</tr>\n",
       "</table>\n",
       "<table class=\"simpletable\">\n",
       "<tr>\n",
       "       <td></td>        <th>Coef.</th>  <th>Std.Err.</th>     <th>t</th>     <th>P>|t|</th> <th>[0.025</th>  <th>0.975]</th> \n",
       "</tr>\n",
       "<tr>\n",
       "  <th>const</th>       <td>50.6744</td>  <td>0.4127</td>  <td>122.7931</td> <td>0.0000</td> <td>49.8606</td> <td>51.4882</td>\n",
       "</tr>\n",
       "<tr>\n",
       "  <th>study_hours</th> <td>3.8965</td>   <td>0.0581</td>   <td>67.0743</td> <td>0.0000</td> <td>3.7819</td>  <td>4.0110</td> \n",
       "</tr>\n",
       "</table>\n",
       "<table class=\"simpletable\">\n",
       "<tr>\n",
       "     <td>Omnibus:</td>     <td>0.157</td>  <td>Durbin-Watson:</td>   <td>1.905</td>\n",
       "</tr>\n",
       "<tr>\n",
       "  <td>Prob(Omnibus):</td>  <td>0.924</td> <td>Jarque-Bera (JB):</td> <td>0.230</td>\n",
       "</tr>\n",
       "<tr>\n",
       "       <td>Skew:</td>     <td>-0.065</td>     <td>Prob(JB):</td>     <td>0.891</td>\n",
       "</tr>\n",
       "<tr>\n",
       "     <td>Kurtosis:</td>    <td>2.896</td>  <td>Condition No.:</td>    <td>42</td>  \n",
       "</tr>\n",
       "</table>"
      ],
      "text/plain": [
       "<class 'statsmodels.iolib.summary2.Summary'>\n",
       "\"\"\"\n",
       "                 Results: Ordinary least squares\n",
       "==================================================================\n",
       "Model:              OLS              Adj. R-squared:     0.958    \n",
       "Dependent Variable: student_marks    AIC:                575.0788 \n",
       "Date:               2024-07-18 09:26 BIC:                581.6754 \n",
       "No. Observations:   200              Log-Likelihood:     -285.54  \n",
       "Df Model:           1                F-statistic:        4499.    \n",
       "Df Residuals:       198              Prob (F-statistic): 4.19e-138\n",
       "R-squared:          0.958            Scale:              1.0280   \n",
       "-------------------------------------------------------------------\n",
       "               Coef.   Std.Err.     t      P>|t|    [0.025   0.975]\n",
       "-------------------------------------------------------------------\n",
       "const         50.6744    0.4127  122.7931  0.0000  49.8606  51.4882\n",
       "study_hours    3.8965    0.0581   67.0743  0.0000   3.7819   4.0110\n",
       "------------------------------------------------------------------\n",
       "Omnibus:              0.157         Durbin-Watson:           1.905\n",
       "Prob(Omnibus):        0.924         Jarque-Bera (JB):        0.230\n",
       "Skew:                 -0.065        Prob(JB):                0.891\n",
       "Kurtosis:             2.896         Condition No.:           42   \n",
       "==================================================================\n",
       "\n",
       "\"\"\""
      ]
     },
     "execution_count": 26,
     "metadata": {},
     "output_type": "execute_result"
    }
   ],
   "source": [
    "X=sm.add_constant(X)\n",
    "mlr_model=sm.OLS(y, X).fit()  # Ordinary list Square method\n",
    "mlr_model.summary2()"
   ]
  },
  {
   "cell_type": "code",
   "execution_count": 27,
   "id": "f3bb86d4",
   "metadata": {},
   "outputs": [
    {
     "name": "stdout",
     "output_type": "stream",
     "text": [
      "0.96\n"
     ]
    }
   ],
   "source": [
    "R2_scor=mlr_model.rsquared\n",
    "print(round(R2_scor,2))"
   ]
  },
  {
   "cell_type": "code",
   "execution_count": 28,
   "id": "697c0580",
   "metadata": {},
   "outputs": [
    {
     "name": "stdout",
     "output_type": "stream",
     "text": [
      "Enter:How many hours for daily you study: \n"
     ]
    },
    {
     "ename": "ValueError",
     "evalue": "invalid literal for int() with base 10: ''",
     "output_type": "error",
     "traceback": [
      "\u001b[1;31m---------------------------------------------------------------------------\u001b[0m",
      "\u001b[1;31mValueError\u001b[0m                                Traceback (most recent call last)",
      "\u001b[1;32m~\\AppData\\Local\\Temp\\ipykernel_2900\\1858235673.py\u001b[0m in \u001b[0;36m<module>\u001b[1;34m\u001b[0m\n\u001b[1;32m----> 1\u001b[1;33m \u001b[0mst_hr\u001b[0m\u001b[1;33m=\u001b[0m\u001b[0mnp\u001b[0m\u001b[1;33m.\u001b[0m\u001b[0marray\u001b[0m\u001b[1;33m(\u001b[0m\u001b[0mint\u001b[0m\u001b[1;33m(\u001b[0m\u001b[0minput\u001b[0m\u001b[1;33m(\u001b[0m\u001b[1;34m'Enter:How many hours for daily you study: '\u001b[0m\u001b[1;33m)\u001b[0m\u001b[1;33m)\u001b[0m\u001b[1;33m)\u001b[0m\u001b[1;33m\u001b[0m\u001b[1;33m\u001b[0m\u001b[0m\n\u001b[0m\u001b[0;32m      2\u001b[0m \u001b[1;33m\u001b[0m\u001b[0m\n\u001b[0;32m      3\u001b[0m \u001b[1;32mif\u001b[0m \u001b[0mst_hr\u001b[0m\u001b[1;33m<=\u001b[0m\u001b[1;36m0\u001b[0m \u001b[1;32mor\u001b[0m \u001b[0mst_hr\u001b[0m\u001b[1;33m>\u001b[0m\u001b[1;36m10\u001b[0m\u001b[1;33m:\u001b[0m\u001b[1;33m\u001b[0m\u001b[1;33m\u001b[0m\u001b[0m\n\u001b[0;32m      4\u001b[0m     \u001b[0mprint\u001b[0m\u001b[1;33m(\u001b[0m\u001b[1;34m'Give the hours between 1 to 10'\u001b[0m\u001b[1;33m)\u001b[0m\u001b[1;33m\u001b[0m\u001b[1;33m\u001b[0m\u001b[0m\n\u001b[0;32m      5\u001b[0m \u001b[1;32melse\u001b[0m\u001b[1;33m:\u001b[0m\u001b[1;33m\u001b[0m\u001b[1;33m\u001b[0m\u001b[0m\n",
      "\u001b[1;31mValueError\u001b[0m: invalid literal for int() with base 10: ''"
     ]
    }
   ],
   "source": [
    "st_hr=np.array(int(input('Enter:How many hours for daily you study: ')))\n",
    "\n",
    "if st_hr<=0 or st_hr>10:\n",
    "    print('Give the hours between 1 to 10')\n",
    "else:\n",
    "    scor_marks=mlr_model.predict([[1,st_hr]])\n",
    "    print(f'If you study for {st_hr} You will score {round(scor_marks[0],2)}%')"
   ]
  },
  {
   "cell_type": "code",
   "execution_count": null,
   "id": "45313465",
   "metadata": {},
   "outputs": [],
   "source": []
  },
  {
   "cell_type": "code",
   "execution_count": null,
   "id": "f8e59169",
   "metadata": {},
   "outputs": [],
   "source": []
  },
  {
   "cell_type": "code",
   "execution_count": null,
   "id": "1dbf68a0",
   "metadata": {},
   "outputs": [],
   "source": []
  },
  {
   "cell_type": "code",
   "execution_count": 29,
   "id": "96d05c91",
   "metadata": {},
   "outputs": [],
   "source": [
    "import pandas as pd\n",
    "mtcars=pd.read_csv(\"E:\\Excelr Data\\DataScience\\mtcars.csv\")"
   ]
  },
  {
   "cell_type": "code",
   "execution_count": 30,
   "id": "479d2181",
   "metadata": {},
   "outputs": [
    {
     "data": {
      "text/html": [
       "<div>\n",
       "<style scoped>\n",
       "    .dataframe tbody tr th:only-of-type {\n",
       "        vertical-align: middle;\n",
       "    }\n",
       "\n",
       "    .dataframe tbody tr th {\n",
       "        vertical-align: top;\n",
       "    }\n",
       "\n",
       "    .dataframe thead th {\n",
       "        text-align: right;\n",
       "    }\n",
       "</style>\n",
       "<table border=\"1\" class=\"dataframe\">\n",
       "  <thead>\n",
       "    <tr style=\"text-align: right;\">\n",
       "      <th></th>\n",
       "      <th>mpg</th>\n",
       "      <th>cyl</th>\n",
       "      <th>disp</th>\n",
       "      <th>hp</th>\n",
       "      <th>drat</th>\n",
       "      <th>wt</th>\n",
       "      <th>qsec</th>\n",
       "      <th>vs</th>\n",
       "      <th>am</th>\n",
       "      <th>gear</th>\n",
       "      <th>carb</th>\n",
       "    </tr>\n",
       "  </thead>\n",
       "  <tbody>\n",
       "    <tr>\n",
       "      <th>0</th>\n",
       "      <td>21.0</td>\n",
       "      <td>6</td>\n",
       "      <td>160.0</td>\n",
       "      <td>110</td>\n",
       "      <td>3.9</td>\n",
       "      <td>2.62</td>\n",
       "      <td>16.46</td>\n",
       "      <td>0</td>\n",
       "      <td>1</td>\n",
       "      <td>4</td>\n",
       "      <td>4</td>\n",
       "    </tr>\n",
       "  </tbody>\n",
       "</table>\n",
       "</div>"
      ],
      "text/plain": [
       "    mpg  cyl   disp   hp  drat    wt   qsec  vs  am  gear  carb\n",
       "0  21.0    6  160.0  110   3.9  2.62  16.46   0   1     4     4"
      ]
     },
     "execution_count": 30,
     "metadata": {},
     "output_type": "execute_result"
    }
   ],
   "source": [
    "mtcars.head(1)"
   ]
  },
  {
   "cell_type": "code",
   "execution_count": 31,
   "id": "c9812110",
   "metadata": {},
   "outputs": [
    {
     "name": "stdout",
     "output_type": "stream",
     "text": [
      "<class 'pandas.core.frame.DataFrame'>\n",
      "RangeIndex: 32 entries, 0 to 31\n",
      "Data columns (total 11 columns):\n",
      " #   Column  Non-Null Count  Dtype  \n",
      "---  ------  --------------  -----  \n",
      " 0   mpg     32 non-null     float64\n",
      " 1   cyl     32 non-null     int64  \n",
      " 2   disp    32 non-null     float64\n",
      " 3   hp      32 non-null     int64  \n",
      " 4   drat    32 non-null     float64\n",
      " 5   wt      32 non-null     float64\n",
      " 6   qsec    32 non-null     float64\n",
      " 7   vs      32 non-null     int64  \n",
      " 8   am      32 non-null     int64  \n",
      " 9   gear    32 non-null     int64  \n",
      " 10  carb    32 non-null     int64  \n",
      "dtypes: float64(5), int64(6)\n",
      "memory usage: 2.9 KB\n"
     ]
    }
   ],
   "source": [
    "mtcars.info()"
   ]
  },
  {
   "cell_type": "code",
   "execution_count": 32,
   "id": "7393f76e",
   "metadata": {},
   "outputs": [
    {
     "name": "stderr",
     "output_type": "stream",
     "text": [
      "C:\\Users\\SUJATA\\anaconda3\\lib\\site-packages\\seaborn\\axisgrid.py:123: UserWarning: The figure layout has changed to tight\n",
      "  self._figure.tight_layout(*args, **kwargs)\n"
     ]
    },
    {
     "data": {
      "text/plain": [
       "<seaborn.axisgrid.PairGrid at 0x14a5ff3e040>"
      ]
     },
     "execution_count": 32,
     "metadata": {},
     "output_type": "execute_result"
    },
    {
     "data": {
      "image/png": "[encoded data removed]",
      "text/plain": [
       "<Figure size 2750x2750 with 132 Axes>"
      ]
     },
     "metadata": {},
     "output_type": "display_data"
    }
   ],
   "source": [
    "sns.pairplot(mtcars)"
   ]
  },
  {
   "cell_type": "code",
   "execution_count": 33,
   "id": "e53e9492",
   "metadata": {},
   "outputs": [
    {
     "name": "stderr",
     "output_type": "stream",
     "text": [
      "C:\\Users\\SUJATA\\anaconda3\\lib\\site-packages\\pandas\\plotting\\_matplotlib\\core.py:1114: UserWarning: No data for colormapping provided via 'c'. Parameters 'cmap' will be ignored\n",
      "  scatter = ax.scatter(\n"
     ]
    },
    {
     "data": {
      "text/plain": [
       "<Axes: xlabel='wt', ylabel='mpg'>"
      ]
     },
     "execution_count": 33,
     "metadata": {},
     "output_type": "execute_result"
    },
    {
     "data": {
      "image/png": "[encoded data removed]",
      "text/plain": [
       "<Figure size 640x480 with 1 Axes>"
      ]
     },
     "metadata": {},
     "output_type": "display_data"
    }
   ],
   "source": [
    "mtcars.plot(kind='scatter',x=\"wt\",y='mpg')"
   ]
  },
  {
   "cell_type": "code",
   "execution_count": 34,
   "id": "906904e5",
   "metadata": {},
   "outputs": [
    {
     "data": {
      "text/plain": [
       "-0.8676593765172281"
      ]
     },
     "execution_count": 34,
     "metadata": {},
     "output_type": "execute_result"
    }
   ],
   "source": [
    "mtcars['mpg'].corr(mtcars['wt'])"
   ]
  },
  {
   "cell_type": "code",
   "execution_count": 35,
   "id": "74331fe9",
   "metadata": {},
   "outputs": [
    {
     "ename": "NameError",
     "evalue": "name 'mtcarscars' is not defined",
     "output_type": "error",
     "traceback": [
      "\u001b[1;31m---------------------------------------------------------------------------\u001b[0m",
      "\u001b[1;31mNameError\u001b[0m                                 Traceback (most recent call last)",
      "\u001b[1;32m~\\AppData\\Local\\Temp\\ipykernel_2900\\3099630347.py\u001b[0m in \u001b[0;36m<module>\u001b[1;34m\u001b[0m\n\u001b[1;32m----> 1\u001b[1;33m \u001b[0mmtcarscars\u001b[0m\u001b[1;33m[\u001b[0m\u001b[1;33m[\u001b[0m\u001b[1;34m\"mpg\"\u001b[0m\u001b[1;33m,\u001b[0m\u001b[1;34m\"wt\"\u001b[0m\u001b[1;33m]\u001b[0m\u001b[1;33m]\u001b[0m\u001b[1;33m.\u001b[0m\u001b[0mdescribe\u001b[0m\u001b[1;33m(\u001b[0m\u001b[1;33m)\u001b[0m\u001b[1;33m\u001b[0m\u001b[1;33m\u001b[0m\u001b[0m\n\u001b[0m",
      "\u001b[1;31mNameError\u001b[0m: name 'mtcarscars' is not defined"
     ]
    }
   ],
   "source": [
    "mtcarscars[[\"mpg\",\"wt\"]].describe()"
   ]
  },
  {
   "cell_type": "code",
   "execution_count": null,
   "id": "0e7881cd",
   "metadata": {},
   "outputs": [],
   "source": [
    "# Model fitting\n",
    "y=mtcars['mpg']\n",
    "x=mtcars['wt']\n",
    "x=sm.add_constant(x) #statsmodel lobarary\n",
    "x.head(3)"
   ]
  },
  {
   "cell_type": "code",
   "execution_count": null,
   "id": "566423ef",
   "metadata": {},
   "outputs": [],
   "source": [
    "y.shape, x.shape"
   ]
  },
  {
   "cell_type": "code",
   "execution_count": null,
   "id": "be5f38fa",
   "metadata": {},
   "outputs": [],
   "source": [
    "model_sm=sm.OLS(y,x).fit()\n",
    "print(model_sm.summary2())"
   ]
  },
  {
   "cell_type": "code",
   "execution_count": null,
   "id": "b1ac39ae",
   "metadata": {},
   "outputs": [],
   "source": [
    "model_sm.rsquared"
   ]
  },
  {
   "cell_type": "code",
   "execution_count": null,
   "id": "643cfb51",
   "metadata": {},
   "outputs": [],
   "source": [
    "#Fitting model using Scikit-learn"
   ]
  },
  {
   "cell_type": "code",
   "execution_count": null,
   "id": "8e8643f4",
   "metadata": {},
   "outputs": [],
   "source": [
    "from sklearn import linear_model\n",
    "regression_model=linear_model.LinearRegression()\n",
    "regression_model.fit(X=pd.DataFrame(mtcars[\"wt\"]),y=y)\n",
    "# from trained model\n",
    "print(\"intercept:\", regression_model.intercept_)\n",
    "print(\"Coeff:\", regression_model.coef_)\n",
    "#Check for R^2 value\n",
    "regression_model.score(X=pd.DataFrame(mtcars[\"wt\"]),y=mtcars[\"mpg\"])\n"
   ]
  },
  {
   "cell_type": "code",
   "execution_count": null,
   "id": "6e460b84",
   "metadata": {},
   "outputs": [],
   "source": [
    "pred=regression_model.predict(X=[[3.5],[4],[5],[6]])\n",
    "print(pred)"
   ]
  },
  {
   "cell_type": "code",
   "execution_count": null,
   "id": "ee115755",
   "metadata": {},
   "outputs": [],
   "source": [
    "train_prediction=regression_model.predict(X=pd.DataFrame(mtcars[\"wt\"]))\n",
    "print(train_prediction)"
   ]
  },
  {
   "cell_type": "code",
   "execution_count": null,
   "id": "fc4641b1",
   "metadata": {},
   "outputs": [],
   "source": [
    "mtcars_WM=mtcars[[\"wt\",\"mpg\"]]\n",
    "mtcars_WM['Predicted MPG']=pd.DataFrame(train_prediction)\n"
   ]
  },
  {
   "cell_type": "code",
   "execution_count": null,
   "id": "253d6e88",
   "metadata": {},
   "outputs": [],
   "source": [
    "mtcars_WM"
   ]
  },
  {
   "cell_type": "code",
   "execution_count": null,
   "id": "448ff70d",
   "metadata": {},
   "outputs": [],
   "source": [
    "mtcars.plot(kind=\"scatter\", x=\"wt\", y=\"mpg\", color=\"black\", xlim=(1,7), ylim=(5,40))\n",
    "plt.plot(mtcars[\"wt\"],train_prediction, color=\"blue\")"
   ]
  },
  {
   "cell_type": "code",
   "execution_count": null,
   "id": "466a8b4a",
   "metadata": {},
   "outputs": [],
   "source": [
    "error_sm=model_sm.resid\n",
    "error_sm\n",
    "print(round(sum(error_sm**2),2))"
   ]
  },
  {
   "cell_type": "code",
   "execution_count": null,
   "id": "944a2737",
   "metadata": {},
   "outputs": [],
   "source": [
    "error_sm.plot(kind=\"kde\")"
   ]
  },
  {
   "cell_type": "code",
   "execution_count": null,
   "id": "460d7c90",
   "metadata": {},
   "outputs": [],
   "source": [
    "residuals=y-train_prediction\n",
    "data=pd.DataFrame({'actual_y':y,\n",
    "                  'predicted_y':train_prediction,\n",
    "                  'error1':error_sm,\n",
    "                  'error2':residuals})\n",
    "print(data)"
   ]
  },
  {
   "cell_type": "code",
   "execution_count": null,
   "id": "e1596f5f",
   "metadata": {},
   "outputs": [],
   "source": [
    "# Polynomial Regression Analysis\n",
    "poly_model = linear_model.LinearRegression()\n",
    "predictors_X=pd.DataFrame([mtcars['wt'],\n",
    "                          mtcars['wt']**2,\n",
    "                          mtcars['wt']**3,\n",
    "                          mtcars['wt']**4,\n",
    "                          mtcars['wt']**5,\n",
    "                          mtcars['wt']**6]).T\n",
    "#include weight squired, T- transpose(columnwise to rowwise)\n",
    "poly_model.fit(X=predictors_X, y=y)\n",
    "\n",
    "print(\"intercept:\",poly_model.intercept_)\n",
    "print(\"coeff:\",poly_model.coef_)\n",
    "print(\"Model Accuracy:\", poly_model.score(X=predictors_X, y=mtcars[\"mpg\"]))\n"
   ]
  },
  {
   "cell_type": "code",
   "execution_count": null,
   "id": "a2f19f20",
   "metadata": {},
   "outputs": [],
   "source": [
    "poly_line_range=np.arange(1.5,4.7,0.1)\n",
    "poly_predictors=pd.DataFrame([poly_line_range,\n",
    "                             poly_line_range**2,\n",
    "                             poly_line_range**3,\n",
    "                             poly_line_range**4,\n",
    "                             poly_line_range**5,\n",
    "                             poly_line_range**6]).T\n",
    "y_values=poly_model.predict(X=poly_predictors)\n",
    "mtcars.plot(kind=\"scatter\",x=\"wt\",y=\"mpg\",figsize=(6,6),color=\"Green\", xlim=(0,7))\n",
    "plt.plot(poly_line_range,\n",
    "        y_values,\n",
    "        color=\"blue\")"
   ]
  },
  {
   "cell_type": "code",
   "execution_count": null,
   "id": "da9f8721",
   "metadata": {},
   "outputs": [],
   "source": [
    "residuals_poly=y-y_values\n",
    "plt.scatter(y=residuals_poly,x=y_values)\n",
    "plt.show()"
   ]
  },
  {
   "cell_type": "code",
   "execution_count": null,
   "id": "bbdda7d6",
   "metadata": {},
   "outputs": [],
   "source": []
  },
  {
   "cell_type": "code",
   "execution_count": null,
   "id": "1fdbcbee",
   "metadata": {},
   "outputs": [],
   "source": []
  },
  {
   "cell_type": "code",
   "execution_count": null,
   "id": "71ca7579",
   "metadata": {},
   "outputs": [],
   "source": [
    "import numpy as np\n",
    "import pandas as pd\n",
    "import statsmodels.api as sm\n",
    "import matplotlib.pyplot as plt\n",
    "from sklearn.model_selection import train_test_split\n",
    "from sklearn.linear_model import LinearRegression\n",
    "import seaborn as sns\n",
    "%matplotlib inline"
   ]
  },
  {
   "cell_type": "code",
   "execution_count": null,
   "id": "d0edaa36",
   "metadata": {},
   "outputs": [],
   "source": [
    "mtcars=pd.read_csv(\"E:\\Excelr Data\\DataScience\\mtcars.csv\")\n",
    "print(mtcars.columns)"
   ]
  },
  {
   "cell_type": "code",
   "execution_count": null,
   "id": "494b3589",
   "metadata": {},
   "outputs": [],
   "source": [
    "#Drop target variable\n",
    "X_features=mtcars.drop(['mpg'], axis=1)\n",
    "X_features.head()"
   ]
  },
  {
   "cell_type": "code",
   "execution_count": null,
   "id": "2b0978ed",
   "metadata": {},
   "outputs": [],
   "source": [
    "X_features.shape"
   ]
  },
  {
   "cell_type": "code",
   "execution_count": null,
   "id": "5705420a",
   "metadata": {},
   "outputs": [],
   "source": [
    "X_features.dtypes"
   ]
  },
  {
   "cell_type": "code",
   "execution_count": null,
   "id": "bdae68ed",
   "metadata": {},
   "outputs": [],
   "source": [
    "## add contant intercept term 1 to dataset\n",
    "X=sm.add_constant(X_features)\n",
    "X.head()"
   ]
  },
  {
   "cell_type": "code",
   "execution_count": null,
   "id": "1b6c0f2e",
   "metadata": {},
   "outputs": [],
   "source": [
    "y=mtcars['mpg']\n",
    "y.head()"
   ]
  },
  {
   "cell_type": "code",
   "execution_count": null,
   "id": "28bba535",
   "metadata": {},
   "outputs": [],
   "source": [
    "#spliting data into train and test\n",
    "train_X, test_X, train_y, test_y=train_test_split(X,y,test_size=0.2, random_state=1000)\n",
    "print(len(mtcars))\n",
    "print(train_X.shape, test_X.shape)\n",
    "print(train_y.shape, test_y.shape)"
   ]
  },
  {
   "cell_type": "code",
   "execution_count": null,
   "id": "39775e46",
   "metadata": {},
   "outputs": [],
   "source": [
    "#fit the regression model\n",
    "mlr_model=sm.OLS(train_y,train_X).fit()\n",
    "mlr_model.rsquared"
   ]
  },
  {
   "cell_type": "code",
   "execution_count": null,
   "id": "6b01fdc2",
   "metadata": {},
   "outputs": [],
   "source": [
    "mlr_model.summary2()"
   ]
  },
  {
   "cell_type": "code",
   "execution_count": null,
   "id": "30dbbc38",
   "metadata": {},
   "outputs": [],
   "source": [
    "sm.__version__"
   ]
  },
  {
   "cell_type": "code",
   "execution_count": null,
   "id": "a34fef6e",
   "metadata": {},
   "outputs": [],
   "source": [
    "mlr_model.summary()"
   ]
  },
  {
   "cell_type": "code",
   "execution_count": null,
   "id": "c08c6cdd",
   "metadata": {},
   "outputs": [],
   "source": [
    "corr=X_features.corr()\n",
    "sns.heatmap(corr, annot=True)"
   ]
  },
  {
   "cell_type": "code",
   "execution_count": null,
   "id": "eff44eaa",
   "metadata": {},
   "outputs": [],
   "source": [
    "from statsmodels.stats.outliers_influence import variance_inflation_factor\n",
    "#vif is used for finding corrilated variables\n",
    "def calc_vif(X):\n",
    "    vif=pd.DataFrame()\n",
    "    vif['Variables']=X.columns\n",
    "    vif['VIF']=[variance_inflation_factor(X.values, i) for i in range(X.shape[1])]\n",
    "    return(vif)"
   ]
  },
  {
   "cell_type": "code",
   "execution_count": null,
   "id": "414c3040",
   "metadata": {},
   "outputs": [],
   "source": [
    "calc_vif(X)"
   ]
  },
  {
   "cell_type": "code",
   "execution_count": null,
   "id": "a0be1e40",
   "metadata": {},
   "outputs": [],
   "source": [
    "#Choosing <10 VIF values feature\n",
    "X_new=X.drop(['cyl','disp'],axis=1)\n",
    "X_new.head(2)"
   ]
  },
  {
   "cell_type": "code",
   "execution_count": null,
   "id": "33f30c53",
   "metadata": {},
   "outputs": [],
   "source": [
    "calc_vif(X_new)"
   ]
  },
  {
   "cell_type": "code",
   "execution_count": null,
   "id": "d7dc03fc",
   "metadata": {},
   "outputs": [],
   "source": [
    "mlr_model_2=sm.OLS(y,X_new).fit()\n",
    "print('MLR_Modle:', mlr_model.rsquared)\n",
    "print('MLR_Modle:', mlr_model.rsquared_adj)\n",
    "print('MLR_Modle_2:', mlr_model_2.rsquared)\n",
    "print('MLR_Modle_2:', mlr_model_2.rsquared_adj)"
   ]
  },
  {
   "cell_type": "code",
   "execution_count": null,
   "id": "5945fff5",
   "metadata": {},
   "outputs": [],
   "source": [
    "mlr_model_2.summary()"
   ]
  },
  {
   "cell_type": "code",
   "execution_count": null,
   "id": "c4f36873",
   "metadata": {},
   "outputs": [],
   "source": [
    "#Choosing <10 VIF values feature\n",
    "X_new1=X.drop(['cyl','disp','hp'],axis=1)\n",
    "X_new1.head(2)"
   ]
  },
  {
   "cell_type": "code",
   "execution_count": null,
   "id": "2888a622",
   "metadata": {},
   "outputs": [],
   "source": [
    "mlr_model_3=sm.OLS(y,X_new1).fit()\n",
    "print('MLR_Modle:', mlr_model.rsquared)\n",
    "print('MLR_Modle:', mlr_model.rsquared_adj)\n",
    "print('MLR_Modle_2:', mlr_model_2.rsquared)\n",
    "print('MLR_Modle_2:', mlr_model_2.rsquared_adj)\n",
    "print('MLR_Modle_3:', mlr_model_3.rsquared)\n",
    "print('MLR_Modle_3:', mlr_model_3.rsquared_adj)"
   ]
  },
  {
   "cell_type": "code",
   "execution_count": null,
   "id": "ae53dee2",
   "metadata": {},
   "outputs": [],
   "source": [
    "mlr_model_3.summary()"
   ]
  },
  {
   "cell_type": "markdown",
   "id": "2ebed67b",
   "metadata": {},
   "source": [
    "## Residual Analysis"
   ]
  },
  {
   "cell_type": "code",
   "execution_count": null,
   "id": "8d42e321",
   "metadata": {},
   "outputs": [],
   "source": [
    "mlr_model.resid"
   ]
  },
  {
   "cell_type": "code",
   "execution_count": null,
   "id": "62eb7f6b",
   "metadata": {},
   "outputs": [],
   "source": [
    "#extracting residual values for all 3 modules\n",
    "\n",
    "Residual1 = mlr_model.resid\n",
    "Residual2 = mlr_model_2.resid\n",
    "Residual3 = mlr_model_3.resid\n",
    "# kde plot\n",
    "sns.kdeplot(Residual1, label=\"1st model\")\n",
    "sns.kdeplot(Residual2, label=\"2nd model\")\n",
    "sns.kdeplot(Residual3, label=\"3rd model\")\n",
    "\n",
    "plt.legend()\n",
    "plt.show()\n",
    "\n",
    "#green one is more normaly distributed"
   ]
  },
  {
   "cell_type": "code",
   "execution_count": null,
   "id": "ec9afce0",
   "metadata": {},
   "outputs": [],
   "source": [
    "# QQ plot\n",
    "qqplot=sm.qqplot(Residual1, line='q')\n",
    "qqplot=sm.qqplot(Residual3, line='q')\n",
    "plt.title(\"Normal Q-Q plot of residuals\")\n",
    "plt.show()"
   ]
  },
  {
   "cell_type": "code",
   "execution_count": null,
   "id": "3453a927",
   "metadata": {},
   "outputs": [],
   "source": [
    "#pp plot\n",
    "pplot=sm.ProbPlot(Residual1)\n",
    "pplot1=sm.ProbPlot(Residual3)\n",
    "fig=pplot.ppplot()\n",
    "fig=pplot1.ppplot()\n",
    "plt.title(\"Probability Plot for Normality\")\n",
    "plt.show()\n"
   ]
  },
  {
   "cell_type": "code",
   "execution_count": null,
   "id": "4f9f7855",
   "metadata": {},
   "outputs": [],
   "source": [
    "#Residual plot\n",
    "plt.scatter(mlr_model.fittedvalues, mlr_model.resid, c='r')\n",
    "plt.scatter(mlr_model_3.fittedvalues, mlr_model_3.resid, c='g')\n",
    "plt.xlabel(\"Standardized Predicted Values\")\n",
    "plt.ylabel(\"Standardized Residual Values\")\n",
    "plt.show()"
   ]
  },
  {
   "cell_type": "markdown",
   "id": "5a706438",
   "metadata": {},
   "source": [
    "## Data Transformation"
   ]
  },
  {
   "cell_type": "code",
   "execution_count": null,
   "id": "2931cb95",
   "metadata": {},
   "outputs": [],
   "source": [
    "#standerdization method\n",
    "def standardized_values(vals):\n",
    "    return (vals-vals.mean())/vals.std()\n",
    "    "
   ]
  },
  {
   "cell_type": "code",
   "execution_count": null,
   "id": "1ac7eaa7",
   "metadata": {},
   "outputs": [],
   "source": [
    "X_standr=standardized_values(X_new)\n",
    "print(X_standr)"
   ]
  },
  {
   "cell_type": "code",
   "execution_count": null,
   "id": "426507f7",
   "metadata": {},
   "outputs": [],
   "source": [
    "X_standr.describe()"
   ]
  },
  {
   "cell_type": "code",
   "execution_count": null,
   "id": "a35839ef",
   "metadata": {},
   "outputs": [],
   "source": [
    "X_standr=X_standr.drop(['const'],axis=1)"
   ]
  },
  {
   "cell_type": "code",
   "execution_count": null,
   "id": "df45b7c2",
   "metadata": {},
   "outputs": [],
   "source": [
    "X_standr=sm.add_constant(X_standr)\n",
    "y_stdndr=standardized_values(y)\n",
    "y_stdndr"
   ]
  },
  {
   "cell_type": "code",
   "execution_count": null,
   "id": "232a06e8",
   "metadata": {},
   "outputs": [],
   "source": [
    "# fir the regression model\n",
    "mlr_model_4 = sm.OLS(y_stdndr,X_standr).fit()\n",
    "print(\"MLR_model_4:\", mlr_model_4.rsquared)\n",
    "print(\"MLR_model_4:\", mlr_model_4.rsquared_adj)\n",
    "print(\"MLR_model_3:\", mlr_model_3.rsquared)"
   ]
  },
  {
   "cell_type": "code",
   "execution_count": null,
   "id": "e9b417af",
   "metadata": {},
   "outputs": [],
   "source": [
    "min(mlr_model_4.resid), max(mlr_model_4.resid)"
   ]
  },
  {
   "cell_type": "code",
   "execution_count": null,
   "id": "7f37f441",
   "metadata": {},
   "outputs": [],
   "source": [
    "plt.scatter(mlr_model_4.fittedvalues, mlr_model_4.resid, c='r')\n",
    "plt.scatter(mlr_model_3.fittedvalues, mlr_model_3.resid, c='g')\n",
    "plt.xlabel(\"Standardized Predicted Values\")\n",
    "plt.ylabel(\"Standardized Residual Values\")\n",
    "plt.show()"
   ]
  },
  {
   "cell_type": "markdown",
   "id": "0749c000",
   "metadata": {},
   "source": [
    "## Outlier Analysis:"
   ]
  },
  {
   "cell_type": "code",
   "execution_count": null,
   "id": "cd5e845f",
   "metadata": {},
   "outputs": [],
   "source": [
    "sm_model=sm.regression.linear_model.OLS(y_stdndr,X_standr).fit()\n",
    "influence=sm_model.get_influence()\n",
    "print(influence.cooks_distance)"
   ]
  },
  {
   "cell_type": "code",
   "execution_count": null,
   "id": "25afe9ec",
   "metadata": {},
   "outputs": [],
   "source": [
    "influence_list=influence.cooks_distance[0]\n",
    "print(len(influence_list))"
   ]
  },
  {
   "cell_type": "code",
   "execution_count": null,
   "id": "3fd5b4bb",
   "metadata": {},
   "outputs": [],
   "source": [
    "influence_df=pd.DataFrame(influence_list,columns=[\"influence\"])\n",
    "influence_df.index=X_standr.index\n",
    "cooks_df=X_standr.merge(influence_df,left_index=True, right_index=True)\n",
    "cooks_df"
   ]
  },
  {
   "cell_type": "code",
   "execution_count": null,
   "id": "556a700a",
   "metadata": {},
   "outputs": [],
   "source": [
    "#setting the threshold and getting the outliers\n",
    "original_length=len(X_standr)\n",
    "cooks_threshold=4/original_length\n",
    "print(cooks_threshold)"
   ]
  },
  {
   "cell_type": "code",
   "execution_count": null,
   "id": "c42a9c17",
   "metadata": {},
   "outputs": [],
   "source": [
    "cooks_outliers=cooks_df[cooks_df[\"influence\"]>cooks_threshold]\n",
    "cooks_outliers.sort_values(by=[\"influence\"])\n",
    "print(cooks_outliers)\n",
    "print(\"Removed:\",len(cooks_outliers))\n",
    "print(f\"This is {cooks_threshold*100}% of our dataset\")"
   ]
  },
  {
   "cell_type": "code",
   "execution_count": null,
   "id": "f7f1311f",
   "metadata": {},
   "outputs": [],
   "source": [
    "plt.stem(np.arange(len(X_standr)), np.round(influence_list, 3), markerfmt='*')\n",
    "plt.show()"
   ]
  },
  {
   "cell_type": "code",
   "execution_count": null,
   "id": "dd8430ed",
   "metadata": {},
   "outputs": [],
   "source": [
    "X_standr.shape"
   ]
  },
  {
   "cell_type": "code",
   "execution_count": null,
   "id": "d3ec10a8",
   "metadata": {},
   "outputs": [],
   "source": [
    "#leverage value / influencing points\n",
    "K=X_standr.shape[1]\n",
    "n=X_standr.shape[0]\n",
    "leverage_cutoff=3*((K+1)/n)\n",
    "print(\"Number of VAriable:\",K,\"and number of observations:\",n)\n",
    "print(\"Cut of leverage value:\", round(leverage_cutoff,3))\n"
   ]
  },
  {
   "cell_type": "code",
   "execution_count": null,
   "id": "7ed79fc4",
   "metadata": {},
   "outputs": [],
   "source": [
    "from statsmodels.graphics.regressionplots import influence_plot\n",
    "fig, ax= plt.subplots(figsize=(8,6))\n",
    "influence_plot(mlr_model_4, ax=ax)\n",
    "plt.show()"
   ]
  },
  {
   "cell_type": "code",
   "execution_count": null,
   "id": "fd330252",
   "metadata": {},
   "outputs": [],
   "source": [
    "X_standr_out=X_standr.drop(X_standr.index[[16,8,26,27]], axis=0).reset_index()\n"
   ]
  },
  {
   "cell_type": "code",
   "execution_count": null,
   "id": "9837159c",
   "metadata": {},
   "outputs": [],
   "source": [
    "X_standr_out=X_standr_out.drop([\"index\"], axis=1)\n",
    "print(len(X_standr_out))"
   ]
  },
  {
   "cell_type": "code",
   "execution_count": null,
   "id": "8a891d39",
   "metadata": {},
   "outputs": [],
   "source": [
    "y_stdndr_out=y_stdndr.drop(y_stdndr.index[[8,16,26,27]],axis=0).reset_index()\n",
    "y_stdndr_out=y_stdndr_out.drop(['index'],axis=1)\n",
    "len(y_stdndr_out)"
   ]
  },
  {
   "cell_type": "code",
   "execution_count": null,
   "id": "e88d919a",
   "metadata": {},
   "outputs": [],
   "source": [
    "X_standr_out.shape, y_stdndr_out.shape"
   ]
  },
  {
   "cell_type": "code",
   "execution_count": null,
   "id": "06946599",
   "metadata": {},
   "outputs": [],
   "source": [
    "X_standr_out=X_standr_out.drop([\"hp\"],axis=1)\n",
    "\n"
   ]
  },
  {
   "cell_type": "code",
   "execution_count": null,
   "id": "48641e48",
   "metadata": {},
   "outputs": [],
   "source": [
    "X_standr_out.head(2)"
   ]
  },
  {
   "cell_type": "code",
   "execution_count": null,
   "id": "6273675b",
   "metadata": {},
   "outputs": [],
   "source": [
    "mlr_model_4=sm.OLS(y_stdndr_out, X_standr_out).fit()\n",
    "print(mlr_model_4.rsquared)\n",
    "print(mlr_model_4.rsquared_adj)"
   ]
  },
  {
   "cell_type": "code",
   "execution_count": null,
   "id": "b2657ad5",
   "metadata": {},
   "outputs": [],
   "source": [
    "mlr_model_4.summary()"
   ]
  },
  {
   "cell_type": "markdown",
   "id": "80d057fc",
   "metadata": {},
   "source": [
    "## Data transformation for testing data\n"
   ]
  },
  {
   "cell_type": "code",
   "execution_count": null,
   "id": "5569dd30",
   "metadata": {},
   "outputs": [],
   "source": [
    "test_X=test_X.drop(['cyl','disp'], axis=1)"
   ]
  },
  {
   "cell_type": "code",
   "execution_count": null,
   "id": "4496c431",
   "metadata": {},
   "outputs": [],
   "source": [
    "test_X.shape"
   ]
  },
  {
   "cell_type": "code",
   "execution_count": null,
   "id": "3f03a482",
   "metadata": {},
   "outputs": [],
   "source": [
    "test_X=standardized_values(test_X)\n",
    "test_X=test_X.drop(['const'],axis=1)\n"
   ]
  },
  {
   "cell_type": "code",
   "execution_count": null,
   "id": "8c28db17",
   "metadata": {},
   "outputs": [],
   "source": [
    "test_X=sm.add_constant(test_X)\n",
    "test_X"
   ]
  },
  {
   "cell_type": "code",
   "execution_count": null,
   "id": "9fd7c554",
   "metadata": {},
   "outputs": [],
   "source": [
    "test_y=standardized_values(test_y)\n",
    "test_y.shape"
   ]
  },
  {
   "cell_type": "markdown",
   "id": "e3dce357",
   "metadata": {},
   "source": [
    "## Prediction on testing Data"
   ]
  },
  {
   "cell_type": "code",
   "execution_count": null,
   "id": "5c0de77d",
   "metadata": {},
   "outputs": [],
   "source": [
    "y_pred=mlr_model_4.predict(test_X)\n",
    "y_pred"
   ]
  },
  {
   "cell_type": "code",
   "execution_count": null,
   "id": "98f955e1",
   "metadata": {},
   "outputs": [],
   "source": []
  },
  {
   "cell_type": "code",
   "execution_count": null,
   "id": "22924c99",
   "metadata": {},
   "outputs": [],
   "source": []
  },
  {
   "cell_type": "code",
   "execution_count": null,
   "id": "8169598d",
   "metadata": {},
   "outputs": [],
   "source": []
  },
  {
   "cell_type": "code",
   "execution_count": null,
   "id": "b6989d53",
   "metadata": {},
   "outputs": [],
   "source": []
  },
  {
   "cell_type": "markdown",
   "id": "027c7f4a",
   "metadata": {},
   "source": [
    "## Evaluation metrics"
   ]
  },
  {
   "cell_type": "code",
   "execution_count": null,
   "id": "2cce2d15",
   "metadata": {},
   "outputs": [],
   "source": [
    "mse=(test_y-y_prep)**2 # Mean Absolute Error\n",
    "print(f\"MSE: {mse.mean():0.2f} (+/- {mse.std():0.2f})\")\n",
    "\n",
    "mae=np.abs(test_y-y_prep) # Mean Squared Error\n",
    "print(f\"MAE: {mae.mean():0.2f} (+/- {mae.std():0.2f})\")\n",
    "\n",
    "rmse=np.sqrt(mse.mean()) # Root Mean Aquared Error\n",
    "print(f\"RMSE: {rmse:0.2f} )\")\n",
    "\n",
    "SE_line=sum((test_y-y_pred)**2)\n",
    "SE_mean=sum((test_y-test_y.mean())**2)\n",
    "r2=1-(SE_line/SE_mean)\n",
    "print(f\"R^2 coefficient of determination: {r2:0.2f}%\")\n",
    "\n"
   ]
  },
  {
   "cell_type": "code",
   "execution_count": null,
   "id": "2921d34f",
   "metadata": {},
   "outputs": [],
   "source": [
    "\n"
   ]
  },
  {
   "cell_type": "code",
   "execution_count": null,
   "id": "d7e22be1",
   "metadata": {},
   "outputs": [],
   "source": []
  },
  {
   "cell_type": "code",
   "execution_count": null,
   "id": "4a1399b9",
   "metadata": {},
   "outputs": [],
   "source": [
    "Lasso Regressor"
   ]
  },
  {
   "cell_type": "code",
   "execution_count": 46,
   "id": "16318d26",
   "metadata": {},
   "outputs": [],
   "source": [
    "import pandas as pd\n",
    "import numpy as np\n",
    "import seaborn as sns\n",
    "import matplotlib.pyplot as plt\n",
    "from sklearn.model_selection import train_test_split\n",
    "from sklearn.linear_model import LinearRegression, Ridge, Lasso, ElasticNet\n",
    "from sklearn.preprocessing import StandardScaler\n",
    "from sklearn.datasets import fetch_california_housing\n",
    "import sklearn.cross_decomposition as cv\n",
    "import sklearn"
   ]
  },
  {
   "cell_type": "code",
   "execution_count": 4,
   "id": "b6e484b9",
   "metadata": {},
   "outputs": [
    {
     "ename": "HTTPError",
     "evalue": "HTTP Error 403: Forbidden",
     "output_type": "error",
     "traceback": [
      "\u001b[1;31m---------------------------------------------------------------------------\u001b[0m",
      "\u001b[1;31mHTTPError\u001b[0m                                 Traceback (most recent call last)",
      "\u001b[1;32m~\\AppData\\Local\\Temp\\ipykernel_4636\\3386084307.py\u001b[0m in \u001b[0;36m<module>\u001b[1;34m\u001b[0m\n\u001b[1;32m----> 1\u001b[1;33m \u001b[0mdataset\u001b[0m\u001b[1;33m=\u001b[0m\u001b[0mfetch_california_housing\u001b[0m\u001b[1;33m(\u001b[0m\u001b[1;33m)\u001b[0m\u001b[1;33m\u001b[0m\u001b[1;33m\u001b[0m\u001b[0m\n\u001b[0m\u001b[0;32m      2\u001b[0m \u001b[0mX\u001b[0m\u001b[1;33m=\u001b[0m\u001b[0mdataset\u001b[0m\u001b[1;33m[\u001b[0m\u001b[1;34m'data'\u001b[0m\u001b[1;33m]\u001b[0m\u001b[1;33m\u001b[0m\u001b[1;33m\u001b[0m\u001b[0m\n\u001b[0;32m      3\u001b[0m \u001b[0my\u001b[0m\u001b[1;33m=\u001b[0m\u001b[0mdataset\u001b[0m\u001b[1;33m[\u001b[0m\u001b[1;34m'target'\u001b[0m\u001b[1;33m]\u001b[0m\u001b[1;33m\u001b[0m\u001b[1;33m\u001b[0m\u001b[0m\n\u001b[0;32m      4\u001b[0m \u001b[0mX_train\u001b[0m\u001b[1;33m,\u001b[0m \u001b[0mX_test\u001b[0m\u001b[1;33m,\u001b[0m \u001b[0my_train\u001b[0m\u001b[1;33m,\u001b[0m \u001b[0my_test\u001b[0m\u001b[1;33m=\u001b[0m\u001b[0mtrain_test_split\u001b[0m\u001b[1;33m(\u001b[0m\u001b[0mX\u001b[0m\u001b[1;33m,\u001b[0m\u001b[0my\u001b[0m\u001b[1;33m,\u001b[0m\u001b[0mtest_size\u001b[0m\u001b[1;33m=\u001b[0m\u001b[1;36m0.20\u001b[0m\u001b[1;33m,\u001b[0m \u001b[0mrandom_state\u001b[0m\u001b[1;33m=\u001b[0m\u001b[1;36m15\u001b[0m\u001b[1;33m)\u001b[0m\u001b[1;33m\u001b[0m\u001b[1;33m\u001b[0m\u001b[0m\n",
      "\u001b[1;32m~\\anaconda3\\lib\\site-packages\\sklearn\\datasets\\_california_housing.py\u001b[0m in \u001b[0;36mfetch_california_housing\u001b[1;34m(data_home, download_if_missing, return_X_y, as_frame)\u001b[0m\n\u001b[0;32m    133\u001b[0m         )\n\u001b[0;32m    134\u001b[0m \u001b[1;33m\u001b[0m\u001b[0m\n\u001b[1;32m--> 135\u001b[1;33m         \u001b[0marchive_path\u001b[0m \u001b[1;33m=\u001b[0m \u001b[0m_fetch_remote\u001b[0m\u001b[1;33m(\u001b[0m\u001b[0mARCHIVE\u001b[0m\u001b[1;33m,\u001b[0m \u001b[0mdirname\u001b[0m\u001b[1;33m=\u001b[0m\u001b[0mdata_home\u001b[0m\u001b[1;33m)\u001b[0m\u001b[1;33m\u001b[0m\u001b[1;33m\u001b[0m\u001b[0m\n\u001b[0m\u001b[0;32m    136\u001b[0m \u001b[1;33m\u001b[0m\u001b[0m\n\u001b[0;32m    137\u001b[0m         \u001b[1;32mwith\u001b[0m \u001b[0mtarfile\u001b[0m\u001b[1;33m.\u001b[0m\u001b[0mopen\u001b[0m\u001b[1;33m(\u001b[0m\u001b[0mmode\u001b[0m\u001b[1;33m=\u001b[0m\u001b[1;34m\"r:gz\"\u001b[0m\u001b[1;33m,\u001b[0m \u001b[0mname\u001b[0m\u001b[1;33m=\u001b[0m\u001b[0marchive_path\u001b[0m\u001b[1;33m)\u001b[0m \u001b[1;32mas\u001b[0m \u001b[0mf\u001b[0m\u001b[1;33m:\u001b[0m\u001b[1;33m\u001b[0m\u001b[1;33m\u001b[0m\u001b[0m\n",
      "\u001b[1;32m~\\anaconda3\\lib\\site-packages\\sklearn\\datasets\\_base.py\u001b[0m in \u001b[0;36m_fetch_remote\u001b[1;34m(remote, dirname)\u001b[0m\n\u001b[0;32m   1452\u001b[0m \u001b[1;33m\u001b[0m\u001b[0m\n\u001b[0;32m   1453\u001b[0m     \u001b[0mfile_path\u001b[0m \u001b[1;33m=\u001b[0m \u001b[0mremote\u001b[0m\u001b[1;33m.\u001b[0m\u001b[0mfilename\u001b[0m \u001b[1;32mif\u001b[0m \u001b[0mdirname\u001b[0m \u001b[1;32mis\u001b[0m \u001b[1;32mNone\u001b[0m \u001b[1;32melse\u001b[0m \u001b[0mjoin\u001b[0m\u001b[1;33m(\u001b[0m\u001b[0mdirname\u001b[0m\u001b[1;33m,\u001b[0m \u001b[0mremote\u001b[0m\u001b[1;33m.\u001b[0m\u001b[0mfilename\u001b[0m\u001b[1;33m)\u001b[0m\u001b[1;33m\u001b[0m\u001b[1;33m\u001b[0m\u001b[0m\n\u001b[1;32m-> 1454\u001b[1;33m     \u001b[0murlretrieve\u001b[0m\u001b[1;33m(\u001b[0m\u001b[0mremote\u001b[0m\u001b[1;33m.\u001b[0m\u001b[0murl\u001b[0m\u001b[1;33m,\u001b[0m \u001b[0mfile_path\u001b[0m\u001b[1;33m)\u001b[0m\u001b[1;33m\u001b[0m\u001b[1;33m\u001b[0m\u001b[0m\n\u001b[0m\u001b[0;32m   1455\u001b[0m     \u001b[0mchecksum\u001b[0m \u001b[1;33m=\u001b[0m \u001b[0m_sha256\u001b[0m\u001b[1;33m(\u001b[0m\u001b[0mfile_path\u001b[0m\u001b[1;33m)\u001b[0m\u001b[1;33m\u001b[0m\u001b[1;33m\u001b[0m\u001b[0m\n\u001b[0;32m   1456\u001b[0m     \u001b[1;32mif\u001b[0m \u001b[0mremote\u001b[0m\u001b[1;33m.\u001b[0m\u001b[0mchecksum\u001b[0m \u001b[1;33m!=\u001b[0m \u001b[0mchecksum\u001b[0m\u001b[1;33m:\u001b[0m\u001b[1;33m\u001b[0m\u001b[1;33m\u001b[0m\u001b[0m\n",
      "\u001b[1;32m~\\anaconda3\\lib\\urllib\\request.py\u001b[0m in \u001b[0;36murlretrieve\u001b[1;34m(url, filename, reporthook, data)\u001b[0m\n\u001b[0;32m    237\u001b[0m     \u001b[0murl_type\u001b[0m\u001b[1;33m,\u001b[0m \u001b[0mpath\u001b[0m \u001b[1;33m=\u001b[0m \u001b[0m_splittype\u001b[0m\u001b[1;33m(\u001b[0m\u001b[0murl\u001b[0m\u001b[1;33m)\u001b[0m\u001b[1;33m\u001b[0m\u001b[1;33m\u001b[0m\u001b[0m\n\u001b[0;32m    238\u001b[0m \u001b[1;33m\u001b[0m\u001b[0m\n\u001b[1;32m--> 239\u001b[1;33m     \u001b[1;32mwith\u001b[0m \u001b[0mcontextlib\u001b[0m\u001b[1;33m.\u001b[0m\u001b[0mclosing\u001b[0m\u001b[1;33m(\u001b[0m\u001b[0murlopen\u001b[0m\u001b[1;33m(\u001b[0m\u001b[0murl\u001b[0m\u001b[1;33m,\u001b[0m \u001b[0mdata\u001b[0m\u001b[1;33m)\u001b[0m\u001b[1;33m)\u001b[0m \u001b[1;32mas\u001b[0m \u001b[0mfp\u001b[0m\u001b[1;33m:\u001b[0m\u001b[1;33m\u001b[0m\u001b[1;33m\u001b[0m\u001b[0m\n\u001b[0m\u001b[0;32m    240\u001b[0m         \u001b[0mheaders\u001b[0m \u001b[1;33m=\u001b[0m \u001b[0mfp\u001b[0m\u001b[1;33m.\u001b[0m\u001b[0minfo\u001b[0m\u001b[1;33m(\u001b[0m\u001b[1;33m)\u001b[0m\u001b[1;33m\u001b[0m\u001b[1;33m\u001b[0m\u001b[0m\n\u001b[0;32m    241\u001b[0m \u001b[1;33m\u001b[0m\u001b[0m\n",
      "\u001b[1;32m~\\anaconda3\\lib\\urllib\\request.py\u001b[0m in \u001b[0;36murlopen\u001b[1;34m(url, data, timeout, cafile, capath, cadefault, context)\u001b[0m\n\u001b[0;32m    212\u001b[0m     \u001b[1;32melse\u001b[0m\u001b[1;33m:\u001b[0m\u001b[1;33m\u001b[0m\u001b[1;33m\u001b[0m\u001b[0m\n\u001b[0;32m    213\u001b[0m         \u001b[0mopener\u001b[0m \u001b[1;33m=\u001b[0m \u001b[0m_opener\u001b[0m\u001b[1;33m\u001b[0m\u001b[1;33m\u001b[0m\u001b[0m\n\u001b[1;32m--> 214\u001b[1;33m     \u001b[1;32mreturn\u001b[0m \u001b[0mopener\u001b[0m\u001b[1;33m.\u001b[0m\u001b[0mopen\u001b[0m\u001b[1;33m(\u001b[0m\u001b[0murl\u001b[0m\u001b[1;33m,\u001b[0m \u001b[0mdata\u001b[0m\u001b[1;33m,\u001b[0m \u001b[0mtimeout\u001b[0m\u001b[1;33m)\u001b[0m\u001b[1;33m\u001b[0m\u001b[1;33m\u001b[0m\u001b[0m\n\u001b[0m\u001b[0;32m    215\u001b[0m \u001b[1;33m\u001b[0m\u001b[0m\n\u001b[0;32m    216\u001b[0m \u001b[1;32mdef\u001b[0m \u001b[0minstall_opener\u001b[0m\u001b[1;33m(\u001b[0m\u001b[0mopener\u001b[0m\u001b[1;33m)\u001b[0m\u001b[1;33m:\u001b[0m\u001b[1;33m\u001b[0m\u001b[1;33m\u001b[0m\u001b[0m\n",
      "\u001b[1;32m~\\anaconda3\\lib\\urllib\\request.py\u001b[0m in \u001b[0;36mopen\u001b[1;34m(self, fullurl, data, timeout)\u001b[0m\n\u001b[0;32m    521\u001b[0m         \u001b[1;32mfor\u001b[0m \u001b[0mprocessor\u001b[0m \u001b[1;32min\u001b[0m \u001b[0mself\u001b[0m\u001b[1;33m.\u001b[0m\u001b[0mprocess_response\u001b[0m\u001b[1;33m.\u001b[0m\u001b[0mget\u001b[0m\u001b[1;33m(\u001b[0m\u001b[0mprotocol\u001b[0m\u001b[1;33m,\u001b[0m \u001b[1;33m[\u001b[0m\u001b[1;33m]\u001b[0m\u001b[1;33m)\u001b[0m\u001b[1;33m:\u001b[0m\u001b[1;33m\u001b[0m\u001b[1;33m\u001b[0m\u001b[0m\n\u001b[0;32m    522\u001b[0m             \u001b[0mmeth\u001b[0m \u001b[1;33m=\u001b[0m \u001b[0mgetattr\u001b[0m\u001b[1;33m(\u001b[0m\u001b[0mprocessor\u001b[0m\u001b[1;33m,\u001b[0m \u001b[0mmeth_name\u001b[0m\u001b[1;33m)\u001b[0m\u001b[1;33m\u001b[0m\u001b[1;33m\u001b[0m\u001b[0m\n\u001b[1;32m--> 523\u001b[1;33m             \u001b[0mresponse\u001b[0m \u001b[1;33m=\u001b[0m \u001b[0mmeth\u001b[0m\u001b[1;33m(\u001b[0m\u001b[0mreq\u001b[0m\u001b[1;33m,\u001b[0m \u001b[0mresponse\u001b[0m\u001b[1;33m)\u001b[0m\u001b[1;33m\u001b[0m\u001b[1;33m\u001b[0m\u001b[0m\n\u001b[0m\u001b[0;32m    524\u001b[0m \u001b[1;33m\u001b[0m\u001b[0m\n\u001b[0;32m    525\u001b[0m         \u001b[1;32mreturn\u001b[0m \u001b[0mresponse\u001b[0m\u001b[1;33m\u001b[0m\u001b[1;33m\u001b[0m\u001b[0m\n",
      "\u001b[1;32m~\\anaconda3\\lib\\urllib\\request.py\u001b[0m in \u001b[0;36mhttp_response\u001b[1;34m(self, request, response)\u001b[0m\n\u001b[0;32m    630\u001b[0m         \u001b[1;31m# request was successfully received, understood, and accepted.\u001b[0m\u001b[1;33m\u001b[0m\u001b[1;33m\u001b[0m\u001b[0m\n\u001b[0;32m    631\u001b[0m         \u001b[1;32mif\u001b[0m \u001b[1;32mnot\u001b[0m \u001b[1;33m(\u001b[0m\u001b[1;36m200\u001b[0m \u001b[1;33m<=\u001b[0m \u001b[0mcode\u001b[0m \u001b[1;33m<\u001b[0m \u001b[1;36m300\u001b[0m\u001b[1;33m)\u001b[0m\u001b[1;33m:\u001b[0m\u001b[1;33m\u001b[0m\u001b[1;33m\u001b[0m\u001b[0m\n\u001b[1;32m--> 632\u001b[1;33m             response = self.parent.error(\n\u001b[0m\u001b[0;32m    633\u001b[0m                 'http', request, response, code, msg, hdrs)\n\u001b[0;32m    634\u001b[0m \u001b[1;33m\u001b[0m\u001b[0m\n",
      "\u001b[1;32m~\\anaconda3\\lib\\urllib\\request.py\u001b[0m in \u001b[0;36merror\u001b[1;34m(self, proto, *args)\u001b[0m\n\u001b[0;32m    553\u001b[0m             \u001b[0mhttp_err\u001b[0m \u001b[1;33m=\u001b[0m \u001b[1;36m0\u001b[0m\u001b[1;33m\u001b[0m\u001b[1;33m\u001b[0m\u001b[0m\n\u001b[0;32m    554\u001b[0m         \u001b[0margs\u001b[0m \u001b[1;33m=\u001b[0m \u001b[1;33m(\u001b[0m\u001b[0mdict\u001b[0m\u001b[1;33m,\u001b[0m \u001b[0mproto\u001b[0m\u001b[1;33m,\u001b[0m \u001b[0mmeth_name\u001b[0m\u001b[1;33m)\u001b[0m \u001b[1;33m+\u001b[0m \u001b[0margs\u001b[0m\u001b[1;33m\u001b[0m\u001b[1;33m\u001b[0m\u001b[0m\n\u001b[1;32m--> 555\u001b[1;33m         \u001b[0mresult\u001b[0m \u001b[1;33m=\u001b[0m \u001b[0mself\u001b[0m\u001b[1;33m.\u001b[0m\u001b[0m_call_chain\u001b[0m\u001b[1;33m(\u001b[0m\u001b[1;33m*\u001b[0m\u001b[0margs\u001b[0m\u001b[1;33m)\u001b[0m\u001b[1;33m\u001b[0m\u001b[1;33m\u001b[0m\u001b[0m\n\u001b[0m\u001b[0;32m    556\u001b[0m         \u001b[1;32mif\u001b[0m \u001b[0mresult\u001b[0m\u001b[1;33m:\u001b[0m\u001b[1;33m\u001b[0m\u001b[1;33m\u001b[0m\u001b[0m\n\u001b[0;32m    557\u001b[0m             \u001b[1;32mreturn\u001b[0m \u001b[0mresult\u001b[0m\u001b[1;33m\u001b[0m\u001b[1;33m\u001b[0m\u001b[0m\n",
      "\u001b[1;32m~\\anaconda3\\lib\\urllib\\request.py\u001b[0m in \u001b[0;36m_call_chain\u001b[1;34m(self, chain, kind, meth_name, *args)\u001b[0m\n\u001b[0;32m    492\u001b[0m         \u001b[1;32mfor\u001b[0m \u001b[0mhandler\u001b[0m \u001b[1;32min\u001b[0m \u001b[0mhandlers\u001b[0m\u001b[1;33m:\u001b[0m\u001b[1;33m\u001b[0m\u001b[1;33m\u001b[0m\u001b[0m\n\u001b[0;32m    493\u001b[0m             \u001b[0mfunc\u001b[0m \u001b[1;33m=\u001b[0m \u001b[0mgetattr\u001b[0m\u001b[1;33m(\u001b[0m\u001b[0mhandler\u001b[0m\u001b[1;33m,\u001b[0m \u001b[0mmeth_name\u001b[0m\u001b[1;33m)\u001b[0m\u001b[1;33m\u001b[0m\u001b[1;33m\u001b[0m\u001b[0m\n\u001b[1;32m--> 494\u001b[1;33m             \u001b[0mresult\u001b[0m \u001b[1;33m=\u001b[0m \u001b[0mfunc\u001b[0m\u001b[1;33m(\u001b[0m\u001b[1;33m*\u001b[0m\u001b[0margs\u001b[0m\u001b[1;33m)\u001b[0m\u001b[1;33m\u001b[0m\u001b[1;33m\u001b[0m\u001b[0m\n\u001b[0m\u001b[0;32m    495\u001b[0m             \u001b[1;32mif\u001b[0m \u001b[0mresult\u001b[0m \u001b[1;32mis\u001b[0m \u001b[1;32mnot\u001b[0m \u001b[1;32mNone\u001b[0m\u001b[1;33m:\u001b[0m\u001b[1;33m\u001b[0m\u001b[1;33m\u001b[0m\u001b[0m\n\u001b[0;32m    496\u001b[0m                 \u001b[1;32mreturn\u001b[0m \u001b[0mresult\u001b[0m\u001b[1;33m\u001b[0m\u001b[1;33m\u001b[0m\u001b[0m\n",
      "\u001b[1;32m~\\anaconda3\\lib\\urllib\\request.py\u001b[0m in \u001b[0;36mhttp_error_302\u001b[1;34m(self, req, fp, code, msg, headers)\u001b[0m\n\u001b[0;32m    745\u001b[0m         \u001b[0mfp\u001b[0m\u001b[1;33m.\u001b[0m\u001b[0mclose\u001b[0m\u001b[1;33m(\u001b[0m\u001b[1;33m)\u001b[0m\u001b[1;33m\u001b[0m\u001b[1;33m\u001b[0m\u001b[0m\n\u001b[0;32m    746\u001b[0m \u001b[1;33m\u001b[0m\u001b[0m\n\u001b[1;32m--> 747\u001b[1;33m         \u001b[1;32mreturn\u001b[0m \u001b[0mself\u001b[0m\u001b[1;33m.\u001b[0m\u001b[0mparent\u001b[0m\u001b[1;33m.\u001b[0m\u001b[0mopen\u001b[0m\u001b[1;33m(\u001b[0m\u001b[0mnew\u001b[0m\u001b[1;33m,\u001b[0m \u001b[0mtimeout\u001b[0m\u001b[1;33m=\u001b[0m\u001b[0mreq\u001b[0m\u001b[1;33m.\u001b[0m\u001b[0mtimeout\u001b[0m\u001b[1;33m)\u001b[0m\u001b[1;33m\u001b[0m\u001b[1;33m\u001b[0m\u001b[0m\n\u001b[0m\u001b[0;32m    748\u001b[0m \u001b[1;33m\u001b[0m\u001b[0m\n\u001b[0;32m    749\u001b[0m     \u001b[0mhttp_error_301\u001b[0m \u001b[1;33m=\u001b[0m \u001b[0mhttp_error_303\u001b[0m \u001b[1;33m=\u001b[0m \u001b[0mhttp_error_307\u001b[0m \u001b[1;33m=\u001b[0m \u001b[0mhttp_error_302\u001b[0m\u001b[1;33m\u001b[0m\u001b[1;33m\u001b[0m\u001b[0m\n",
      "\u001b[1;32m~\\anaconda3\\lib\\urllib\\request.py\u001b[0m in \u001b[0;36mopen\u001b[1;34m(self, fullurl, data, timeout)\u001b[0m\n\u001b[0;32m    521\u001b[0m         \u001b[1;32mfor\u001b[0m \u001b[0mprocessor\u001b[0m \u001b[1;32min\u001b[0m \u001b[0mself\u001b[0m\u001b[1;33m.\u001b[0m\u001b[0mprocess_response\u001b[0m\u001b[1;33m.\u001b[0m\u001b[0mget\u001b[0m\u001b[1;33m(\u001b[0m\u001b[0mprotocol\u001b[0m\u001b[1;33m,\u001b[0m \u001b[1;33m[\u001b[0m\u001b[1;33m]\u001b[0m\u001b[1;33m)\u001b[0m\u001b[1;33m:\u001b[0m\u001b[1;33m\u001b[0m\u001b[1;33m\u001b[0m\u001b[0m\n\u001b[0;32m    522\u001b[0m             \u001b[0mmeth\u001b[0m \u001b[1;33m=\u001b[0m \u001b[0mgetattr\u001b[0m\u001b[1;33m(\u001b[0m\u001b[0mprocessor\u001b[0m\u001b[1;33m,\u001b[0m \u001b[0mmeth_name\u001b[0m\u001b[1;33m)\u001b[0m\u001b[1;33m\u001b[0m\u001b[1;33m\u001b[0m\u001b[0m\n\u001b[1;32m--> 523\u001b[1;33m             \u001b[0mresponse\u001b[0m \u001b[1;33m=\u001b[0m \u001b[0mmeth\u001b[0m\u001b[1;33m(\u001b[0m\u001b[0mreq\u001b[0m\u001b[1;33m,\u001b[0m \u001b[0mresponse\u001b[0m\u001b[1;33m)\u001b[0m\u001b[1;33m\u001b[0m\u001b[1;33m\u001b[0m\u001b[0m\n\u001b[0m\u001b[0;32m    524\u001b[0m \u001b[1;33m\u001b[0m\u001b[0m\n\u001b[0;32m    525\u001b[0m         \u001b[1;32mreturn\u001b[0m \u001b[0mresponse\u001b[0m\u001b[1;33m\u001b[0m\u001b[1;33m\u001b[0m\u001b[0m\n",
      "\u001b[1;32m~\\anaconda3\\lib\\urllib\\request.py\u001b[0m in \u001b[0;36mhttp_response\u001b[1;34m(self, request, response)\u001b[0m\n\u001b[0;32m    630\u001b[0m         \u001b[1;31m# request was successfully received, understood, and accepted.\u001b[0m\u001b[1;33m\u001b[0m\u001b[1;33m\u001b[0m\u001b[0m\n\u001b[0;32m    631\u001b[0m         \u001b[1;32mif\u001b[0m \u001b[1;32mnot\u001b[0m \u001b[1;33m(\u001b[0m\u001b[1;36m200\u001b[0m \u001b[1;33m<=\u001b[0m \u001b[0mcode\u001b[0m \u001b[1;33m<\u001b[0m \u001b[1;36m300\u001b[0m\u001b[1;33m)\u001b[0m\u001b[1;33m:\u001b[0m\u001b[1;33m\u001b[0m\u001b[1;33m\u001b[0m\u001b[0m\n\u001b[1;32m--> 632\u001b[1;33m             response = self.parent.error(\n\u001b[0m\u001b[0;32m    633\u001b[0m                 'http', request, response, code, msg, hdrs)\n\u001b[0;32m    634\u001b[0m \u001b[1;33m\u001b[0m\u001b[0m\n",
      "\u001b[1;32m~\\anaconda3\\lib\\urllib\\request.py\u001b[0m in \u001b[0;36merror\u001b[1;34m(self, proto, *args)\u001b[0m\n\u001b[0;32m    559\u001b[0m         \u001b[1;32mif\u001b[0m \u001b[0mhttp_err\u001b[0m\u001b[1;33m:\u001b[0m\u001b[1;33m\u001b[0m\u001b[1;33m\u001b[0m\u001b[0m\n\u001b[0;32m    560\u001b[0m             \u001b[0margs\u001b[0m \u001b[1;33m=\u001b[0m \u001b[1;33m(\u001b[0m\u001b[0mdict\u001b[0m\u001b[1;33m,\u001b[0m \u001b[1;34m'default'\u001b[0m\u001b[1;33m,\u001b[0m \u001b[1;34m'http_error_default'\u001b[0m\u001b[1;33m)\u001b[0m \u001b[1;33m+\u001b[0m \u001b[0morig_args\u001b[0m\u001b[1;33m\u001b[0m\u001b[1;33m\u001b[0m\u001b[0m\n\u001b[1;32m--> 561\u001b[1;33m             \u001b[1;32mreturn\u001b[0m \u001b[0mself\u001b[0m\u001b[1;33m.\u001b[0m\u001b[0m_call_chain\u001b[0m\u001b[1;33m(\u001b[0m\u001b[1;33m*\u001b[0m\u001b[0margs\u001b[0m\u001b[1;33m)\u001b[0m\u001b[1;33m\u001b[0m\u001b[1;33m\u001b[0m\u001b[0m\n\u001b[0m\u001b[0;32m    562\u001b[0m \u001b[1;33m\u001b[0m\u001b[0m\n\u001b[0;32m    563\u001b[0m \u001b[1;31m# XXX probably also want an abstract factory that knows when it makes\u001b[0m\u001b[1;33m\u001b[0m\u001b[1;33m\u001b[0m\u001b[0m\n",
      "\u001b[1;32m~\\anaconda3\\lib\\urllib\\request.py\u001b[0m in \u001b[0;36m_call_chain\u001b[1;34m(self, chain, kind, meth_name, *args)\u001b[0m\n\u001b[0;32m    492\u001b[0m         \u001b[1;32mfor\u001b[0m \u001b[0mhandler\u001b[0m \u001b[1;32min\u001b[0m \u001b[0mhandlers\u001b[0m\u001b[1;33m:\u001b[0m\u001b[1;33m\u001b[0m\u001b[1;33m\u001b[0m\u001b[0m\n\u001b[0;32m    493\u001b[0m             \u001b[0mfunc\u001b[0m \u001b[1;33m=\u001b[0m \u001b[0mgetattr\u001b[0m\u001b[1;33m(\u001b[0m\u001b[0mhandler\u001b[0m\u001b[1;33m,\u001b[0m \u001b[0mmeth_name\u001b[0m\u001b[1;33m)\u001b[0m\u001b[1;33m\u001b[0m\u001b[1;33m\u001b[0m\u001b[0m\n\u001b[1;32m--> 494\u001b[1;33m             \u001b[0mresult\u001b[0m \u001b[1;33m=\u001b[0m \u001b[0mfunc\u001b[0m\u001b[1;33m(\u001b[0m\u001b[1;33m*\u001b[0m\u001b[0margs\u001b[0m\u001b[1;33m)\u001b[0m\u001b[1;33m\u001b[0m\u001b[1;33m\u001b[0m\u001b[0m\n\u001b[0m\u001b[0;32m    495\u001b[0m             \u001b[1;32mif\u001b[0m \u001b[0mresult\u001b[0m \u001b[1;32mis\u001b[0m \u001b[1;32mnot\u001b[0m \u001b[1;32mNone\u001b[0m\u001b[1;33m:\u001b[0m\u001b[1;33m\u001b[0m\u001b[1;33m\u001b[0m\u001b[0m\n\u001b[0;32m    496\u001b[0m                 \u001b[1;32mreturn\u001b[0m \u001b[0mresult\u001b[0m\u001b[1;33m\u001b[0m\u001b[1;33m\u001b[0m\u001b[0m\n",
      "\u001b[1;32m~\\anaconda3\\lib\\urllib\\request.py\u001b[0m in \u001b[0;36mhttp_error_default\u001b[1;34m(self, req, fp, code, msg, hdrs)\u001b[0m\n\u001b[0;32m    639\u001b[0m \u001b[1;32mclass\u001b[0m \u001b[0mHTTPDefaultErrorHandler\u001b[0m\u001b[1;33m(\u001b[0m\u001b[0mBaseHandler\u001b[0m\u001b[1;33m)\u001b[0m\u001b[1;33m:\u001b[0m\u001b[1;33m\u001b[0m\u001b[1;33m\u001b[0m\u001b[0m\n\u001b[0;32m    640\u001b[0m     \u001b[1;32mdef\u001b[0m \u001b[0mhttp_error_default\u001b[0m\u001b[1;33m(\u001b[0m\u001b[0mself\u001b[0m\u001b[1;33m,\u001b[0m \u001b[0mreq\u001b[0m\u001b[1;33m,\u001b[0m \u001b[0mfp\u001b[0m\u001b[1;33m,\u001b[0m \u001b[0mcode\u001b[0m\u001b[1;33m,\u001b[0m \u001b[0mmsg\u001b[0m\u001b[1;33m,\u001b[0m \u001b[0mhdrs\u001b[0m\u001b[1;33m)\u001b[0m\u001b[1;33m:\u001b[0m\u001b[1;33m\u001b[0m\u001b[1;33m\u001b[0m\u001b[0m\n\u001b[1;32m--> 641\u001b[1;33m         \u001b[1;32mraise\u001b[0m \u001b[0mHTTPError\u001b[0m\u001b[1;33m(\u001b[0m\u001b[0mreq\u001b[0m\u001b[1;33m.\u001b[0m\u001b[0mfull_url\u001b[0m\u001b[1;33m,\u001b[0m \u001b[0mcode\u001b[0m\u001b[1;33m,\u001b[0m \u001b[0mmsg\u001b[0m\u001b[1;33m,\u001b[0m \u001b[0mhdrs\u001b[0m\u001b[1;33m,\u001b[0m \u001b[0mfp\u001b[0m\u001b[1;33m)\u001b[0m\u001b[1;33m\u001b[0m\u001b[1;33m\u001b[0m\u001b[0m\n\u001b[0m\u001b[0;32m    642\u001b[0m \u001b[1;33m\u001b[0m\u001b[0m\n\u001b[0;32m    643\u001b[0m \u001b[1;32mclass\u001b[0m \u001b[0mHTTPRedirectHandler\u001b[0m\u001b[1;33m(\u001b[0m\u001b[0mBaseHandler\u001b[0m\u001b[1;33m)\u001b[0m\u001b[1;33m:\u001b[0m\u001b[1;33m\u001b[0m\u001b[1;33m\u001b[0m\u001b[0m\n",
      "\u001b[1;31mHTTPError\u001b[0m: HTTP Error 403: Forbidden"
     ]
    }
   ],
   "source": [
    "dataset=fetch_california_housing()\n",
    "X=dataset['data']\n",
    "y=dataset['target']\n",
    "X_train, X_test, y_train, y_test=train_test_split(X,y,test_size=0.20, random_state=15)\n"
   ]
  },
  {
   "cell_type": "code",
   "execution_count": 3,
   "id": "86891387",
   "metadata": {},
   "outputs": [
    {
     "ename": "NameError",
     "evalue": "name 'dataset' is not defined",
     "output_type": "error",
     "traceback": [
      "\u001b[1;31m---------------------------------------------------------------------------\u001b[0m",
      "\u001b[1;31mNameError\u001b[0m                                 Traceback (most recent call last)",
      "\u001b[1;32m~\\AppData\\Local\\Temp\\ipykernel_4636\\48412968.py\u001b[0m in \u001b[0;36m<module>\u001b[1;34m\u001b[0m\n\u001b[1;32m----> 1\u001b[1;33m \u001b[0mdataset\u001b[0m\u001b[1;33m\u001b[0m\u001b[1;33m\u001b[0m\u001b[0m\n\u001b[0m",
      "\u001b[1;31mNameError\u001b[0m: name 'dataset' is not defined"
     ]
    }
   ],
   "source": [
    "dataset"
   ]
  },
  {
   "cell_type": "code",
   "execution_count": 47,
   "id": "692cb42b",
   "metadata": {},
   "outputs": [],
   "source": [
    "dataset=pd.read_csv(\"E:\\Excelr Data\\DataScience\\housing.csv\")"
   ]
  },
  {
   "cell_type": "code",
   "execution_count": 48,
   "id": "1df66ac7",
   "metadata": {},
   "outputs": [
    {
     "data": {
      "text/html": [
       "<div>\n",
       "<style scoped>\n",
       "    .dataframe tbody tr th:only-of-type {\n",
       "        vertical-align: middle;\n",
       "    }\n",
       "\n",
       "    .dataframe tbody tr th {\n",
       "        vertical-align: top;\n",
       "    }\n",
       "\n",
       "    .dataframe thead th {\n",
       "        text-align: right;\n",
       "    }\n",
       "</style>\n",
       "<table border=\"1\" class=\"dataframe\">\n",
       "  <thead>\n",
       "    <tr style=\"text-align: right;\">\n",
       "      <th></th>\n",
       "      <th>longitude</th>\n",
       "      <th>latitude</th>\n",
       "      <th>housing_median_age</th>\n",
       "      <th>total_rooms</th>\n",
       "      <th>total_bedrooms</th>\n",
       "      <th>population</th>\n",
       "      <th>households</th>\n",
       "      <th>median_income</th>\n",
       "      <th>median_house_value</th>\n",
       "      <th>ocean_proximity</th>\n",
       "    </tr>\n",
       "  </thead>\n",
       "  <tbody>\n",
       "    <tr>\n",
       "      <th>0</th>\n",
       "      <td>-122.23</td>\n",
       "      <td>37.88</td>\n",
       "      <td>41.0</td>\n",
       "      <td>880.0</td>\n",
       "      <td>129.0</td>\n",
       "      <td>322.0</td>\n",
       "      <td>126.0</td>\n",
       "      <td>8.3252</td>\n",
       "      <td>452600.0</td>\n",
       "      <td>NEAR BAY</td>\n",
       "    </tr>\n",
       "    <tr>\n",
       "      <th>1</th>\n",
       "      <td>-122.22</td>\n",
       "      <td>37.86</td>\n",
       "      <td>21.0</td>\n",
       "      <td>7099.0</td>\n",
       "      <td>1106.0</td>\n",
       "      <td>2401.0</td>\n",
       "      <td>1138.0</td>\n",
       "      <td>8.3014</td>\n",
       "      <td>358500.0</td>\n",
       "      <td>NEAR BAY</td>\n",
       "    </tr>\n",
       "    <tr>\n",
       "      <th>2</th>\n",
       "      <td>-122.24</td>\n",
       "      <td>37.85</td>\n",
       "      <td>52.0</td>\n",
       "      <td>1467.0</td>\n",
       "      <td>190.0</td>\n",
       "      <td>496.0</td>\n",
       "      <td>177.0</td>\n",
       "      <td>7.2574</td>\n",
       "      <td>352100.0</td>\n",
       "      <td>NEAR BAY</td>\n",
       "    </tr>\n",
       "    <tr>\n",
       "      <th>3</th>\n",
       "      <td>-122.25</td>\n",
       "      <td>37.85</td>\n",
       "      <td>52.0</td>\n",
       "      <td>1274.0</td>\n",
       "      <td>235.0</td>\n",
       "      <td>558.0</td>\n",
       "      <td>219.0</td>\n",
       "      <td>5.6431</td>\n",
       "      <td>341300.0</td>\n",
       "      <td>NEAR BAY</td>\n",
       "    </tr>\n",
       "    <tr>\n",
       "      <th>4</th>\n",
       "      <td>-122.25</td>\n",
       "      <td>37.85</td>\n",
       "      <td>52.0</td>\n",
       "      <td>1627.0</td>\n",
       "      <td>280.0</td>\n",
       "      <td>565.0</td>\n",
       "      <td>259.0</td>\n",
       "      <td>3.8462</td>\n",
       "      <td>342200.0</td>\n",
       "      <td>NEAR BAY</td>\n",
       "    </tr>\n",
       "  </tbody>\n",
       "</table>\n",
       "</div>"
      ],
      "text/plain": [
       "   longitude  latitude  housing_median_age  total_rooms  total_bedrooms  \\\n",
       "0    -122.23     37.88                41.0        880.0           129.0   \n",
       "1    -122.22     37.86                21.0       7099.0          1106.0   \n",
       "2    -122.24     37.85                52.0       1467.0           190.0   \n",
       "3    -122.25     37.85                52.0       1274.0           235.0   \n",
       "4    -122.25     37.85                52.0       1627.0           280.0   \n",
       "\n",
       "   population  households  median_income  median_house_value ocean_proximity  \n",
       "0       322.0       126.0         8.3252            452600.0        NEAR BAY  \n",
       "1      2401.0      1138.0         8.3014            358500.0        NEAR BAY  \n",
       "2       496.0       177.0         7.2574            352100.0        NEAR BAY  \n",
       "3       558.0       219.0         5.6431            341300.0        NEAR BAY  \n",
       "4       565.0       259.0         3.8462            342200.0        NEAR BAY  "
      ]
     },
     "execution_count": 48,
     "metadata": {},
     "output_type": "execute_result"
    }
   ],
   "source": [
    "dataset.head(5)"
   ]
  },
  {
   "cell_type": "code",
   "execution_count": 49,
   "id": "d410a045",
   "metadata": {},
   "outputs": [
    {
     "data": {
      "text/plain": [
       "((20640,), (20640, 8))"
      ]
     },
     "execution_count": 49,
     "metadata": {},
     "output_type": "execute_result"
    }
   ],
   "source": [
    "y.shape, X.shape"
   ]
  },
  {
   "cell_type": "code",
   "execution_count": null,
   "id": "4eba2957",
   "metadata": {},
   "outputs": [],
   "source": []
  },
  {
   "cell_type": "code",
   "execution_count": 50,
   "id": "aba73474",
   "metadata": {},
   "outputs": [
    {
     "name": "stdout",
     "output_type": "stream",
     "text": [
      "<class 'pandas.core.frame.DataFrame'>\n",
      "RangeIndex: 20640 entries, 0 to 20639\n",
      "Data columns (total 10 columns):\n",
      " #   Column              Non-Null Count  Dtype  \n",
      "---  ------              --------------  -----  \n",
      " 0   longitude           20640 non-null  float64\n",
      " 1   latitude            20640 non-null  float64\n",
      " 2   housing_median_age  20640 non-null  float64\n",
      " 3   total_rooms         20640 non-null  float64\n",
      " 4   total_bedrooms      20433 non-null  float64\n",
      " 5   population          20640 non-null  float64\n",
      " 6   households          20640 non-null  float64\n",
      " 7   median_income       20640 non-null  float64\n",
      " 8   median_house_value  20640 non-null  float64\n",
      " 9   ocean_proximity     20640 non-null  object \n",
      "dtypes: float64(9), object(1)\n",
      "memory usage: 1.6+ MB\n"
     ]
    }
   ],
   "source": [
    "dataset.info()"
   ]
  },
  {
   "cell_type": "code",
   "execution_count": 51,
   "id": "447c419b",
   "metadata": {},
   "outputs": [],
   "source": [
    "means=dataset['total_bedrooms'].mean()"
   ]
  },
  {
   "cell_type": "code",
   "execution_count": 52,
   "id": "d9e4c05a",
   "metadata": {},
   "outputs": [],
   "source": [
    "dataset['total_bedrooms'].fillna(means,inplace=True)"
   ]
  },
  {
   "cell_type": "code",
   "execution_count": 53,
   "id": "39cc435d",
   "metadata": {},
   "outputs": [
    {
     "data": {
      "text/html": [
       "<div>\n",
       "<style scoped>\n",
       "    .dataframe tbody tr th:only-of-type {\n",
       "        vertical-align: middle;\n",
       "    }\n",
       "\n",
       "    .dataframe tbody tr th {\n",
       "        vertical-align: top;\n",
       "    }\n",
       "\n",
       "    .dataframe thead th {\n",
       "        text-align: right;\n",
       "    }\n",
       "</style>\n",
       "<table border=\"1\" class=\"dataframe\">\n",
       "  <thead>\n",
       "    <tr style=\"text-align: right;\">\n",
       "      <th></th>\n",
       "      <th>longitude</th>\n",
       "      <th>latitude</th>\n",
       "      <th>housing_median_age</th>\n",
       "      <th>total_rooms</th>\n",
       "      <th>total_bedrooms</th>\n",
       "      <th>population</th>\n",
       "      <th>households</th>\n",
       "      <th>median_income</th>\n",
       "      <th>median_house_value</th>\n",
       "    </tr>\n",
       "  </thead>\n",
       "  <tbody>\n",
       "    <tr>\n",
       "      <th>count</th>\n",
       "      <td>20640.000000</td>\n",
       "      <td>20640.000000</td>\n",
       "      <td>20640.000000</td>\n",
       "      <td>20640.000000</td>\n",
       "      <td>20640.000000</td>\n",
       "      <td>20640.000000</td>\n",
       "      <td>20640.000000</td>\n",
       "      <td>20640.000000</td>\n",
       "      <td>20640.000000</td>\n",
       "    </tr>\n",
       "    <tr>\n",
       "      <th>mean</th>\n",
       "      <td>-119.569704</td>\n",
       "      <td>35.631861</td>\n",
       "      <td>28.639486</td>\n",
       "      <td>2635.763081</td>\n",
       "      <td>537.870553</td>\n",
       "      <td>1425.476744</td>\n",
       "      <td>499.539680</td>\n",
       "      <td>3.870671</td>\n",
       "      <td>206855.816909</td>\n",
       "    </tr>\n",
       "    <tr>\n",
       "      <th>std</th>\n",
       "      <td>2.003532</td>\n",
       "      <td>2.135952</td>\n",
       "      <td>12.585558</td>\n",
       "      <td>2181.615252</td>\n",
       "      <td>419.266592</td>\n",
       "      <td>1132.462122</td>\n",
       "      <td>382.329753</td>\n",
       "      <td>1.899822</td>\n",
       "      <td>115395.615874</td>\n",
       "    </tr>\n",
       "    <tr>\n",
       "      <th>min</th>\n",
       "      <td>-124.350000</td>\n",
       "      <td>32.540000</td>\n",
       "      <td>1.000000</td>\n",
       "      <td>2.000000</td>\n",
       "      <td>1.000000</td>\n",
       "      <td>3.000000</td>\n",
       "      <td>1.000000</td>\n",
       "      <td>0.499900</td>\n",
       "      <td>14999.000000</td>\n",
       "    </tr>\n",
       "    <tr>\n",
       "      <th>25%</th>\n",
       "      <td>-121.800000</td>\n",
       "      <td>33.930000</td>\n",
       "      <td>18.000000</td>\n",
       "      <td>1447.750000</td>\n",
       "      <td>297.000000</td>\n",
       "      <td>787.000000</td>\n",
       "      <td>280.000000</td>\n",
       "      <td>2.563400</td>\n",
       "      <td>119600.000000</td>\n",
       "    </tr>\n",
       "    <tr>\n",
       "      <th>50%</th>\n",
       "      <td>-118.490000</td>\n",
       "      <td>34.260000</td>\n",
       "      <td>29.000000</td>\n",
       "      <td>2127.000000</td>\n",
       "      <td>438.000000</td>\n",
       "      <td>1166.000000</td>\n",
       "      <td>409.000000</td>\n",
       "      <td>3.534800</td>\n",
       "      <td>179700.000000</td>\n",
       "    </tr>\n",
       "    <tr>\n",
       "      <th>75%</th>\n",
       "      <td>-118.010000</td>\n",
       "      <td>37.710000</td>\n",
       "      <td>37.000000</td>\n",
       "      <td>3148.000000</td>\n",
       "      <td>643.250000</td>\n",
       "      <td>1725.000000</td>\n",
       "      <td>605.000000</td>\n",
       "      <td>4.743250</td>\n",
       "      <td>264725.000000</td>\n",
       "    </tr>\n",
       "    <tr>\n",
       "      <th>max</th>\n",
       "      <td>-114.310000</td>\n",
       "      <td>41.950000</td>\n",
       "      <td>52.000000</td>\n",
       "      <td>39320.000000</td>\n",
       "      <td>6445.000000</td>\n",
       "      <td>35682.000000</td>\n",
       "      <td>6082.000000</td>\n",
       "      <td>15.000100</td>\n",
       "      <td>500001.000000</td>\n",
       "    </tr>\n",
       "  </tbody>\n",
       "</table>\n",
       "</div>"
      ],
      "text/plain": [
       "          longitude      latitude  housing_median_age   total_rooms  \\\n",
       "count  20640.000000  20640.000000        20640.000000  20640.000000   \n",
       "mean    -119.569704     35.631861           28.639486   2635.763081   \n",
       "std        2.003532      2.135952           12.585558   2181.615252   \n",
       "min     -124.350000     32.540000            1.000000      2.000000   \n",
       "25%     -121.800000     33.930000           18.000000   1447.750000   \n",
       "50%     -118.490000     34.260000           29.000000   2127.000000   \n",
       "75%     -118.010000     37.710000           37.000000   3148.000000   \n",
       "max     -114.310000     41.950000           52.000000  39320.000000   \n",
       "\n",
       "       total_bedrooms    population    households  median_income  \\\n",
       "count    20640.000000  20640.000000  20640.000000   20640.000000   \n",
       "mean       537.870553   1425.476744    499.539680       3.870671   \n",
       "std        419.266592   1132.462122    382.329753       1.899822   \n",
       "min          1.000000      3.000000      1.000000       0.499900   \n",
       "25%        297.000000    787.000000    280.000000       2.563400   \n",
       "50%        438.000000   1166.000000    409.000000       3.534800   \n",
       "75%        643.250000   1725.000000    605.000000       4.743250   \n",
       "max       6445.000000  35682.000000   6082.000000      15.000100   \n",
       "\n",
       "       median_house_value  \n",
       "count        20640.000000  \n",
       "mean        206855.816909  \n",
       "std         115395.615874  \n",
       "min          14999.000000  \n",
       "25%         119600.000000  \n",
       "50%         179700.000000  \n",
       "75%         264725.000000  \n",
       "max         500001.000000  "
      ]
     },
     "execution_count": 53,
     "metadata": {},
     "output_type": "execute_result"
    }
   ],
   "source": [
    "dataset.describe()"
   ]
  },
  {
   "cell_type": "code",
   "execution_count": 54,
   "id": "31efb6a1",
   "metadata": {},
   "outputs": [],
   "source": [
    "y=dataset[\"median_house_value\"]"
   ]
  },
  {
   "cell_type": "code",
   "execution_count": 55,
   "id": "6b52e9ee",
   "metadata": {},
   "outputs": [],
   "source": [
    "X=dataset.drop([\"median_house_value\",\"ocean_proximity\"], axis=1)"
   ]
  },
  {
   "cell_type": "code",
   "execution_count": 56,
   "id": "7c4a7707",
   "metadata": {},
   "outputs": [],
   "source": [
    "X_train, X_test, y_train, y_test=train_test_split(X,y,test_size=0.20, random_state=15)"
   ]
  },
  {
   "cell_type": "code",
   "execution_count": 57,
   "id": "578addf7",
   "metadata": {},
   "outputs": [
    {
     "name": "stdout",
     "output_type": "stream",
     "text": [
      "The train score for lasso model is 0.63700302397544\n"
     ]
    }
   ],
   "source": [
    "#Linear regression\n",
    "LR=LinearRegression()\n",
    "LR.fit(X_train, y_train)\n",
    "train_score_LR=LR.score(X_train, y_train)\n",
    "print(\"The train score for lasso model is {}\".format(train_score_LR))"
   ]
  },
  {
   "cell_type": "code",
   "execution_count": 58,
   "id": "d5d5390b",
   "metadata": {},
   "outputs": [
    {
     "data": {
      "text/html": [
       "<div>\n",
       "<style scoped>\n",
       "    .dataframe tbody tr th:only-of-type {\n",
       "        vertical-align: middle;\n",
       "    }\n",
       "\n",
       "    .dataframe tbody tr th {\n",
       "        vertical-align: top;\n",
       "    }\n",
       "\n",
       "    .dataframe thead th {\n",
       "        text-align: right;\n",
       "    }\n",
       "</style>\n",
       "<table border=\"1\" class=\"dataframe\">\n",
       "  <thead>\n",
       "    <tr style=\"text-align: right;\">\n",
       "      <th></th>\n",
       "      <th>longitude</th>\n",
       "      <th>latitude</th>\n",
       "      <th>housing_median_age</th>\n",
       "      <th>total_rooms</th>\n",
       "      <th>total_bedrooms</th>\n",
       "      <th>population</th>\n",
       "      <th>households</th>\n",
       "      <th>median_income</th>\n",
       "    </tr>\n",
       "  </thead>\n",
       "  <tbody>\n",
       "    <tr>\n",
       "      <th>437</th>\n",
       "      <td>-122.30</td>\n",
       "      <td>37.87</td>\n",
       "      <td>10.0</td>\n",
       "      <td>503.0</td>\n",
       "      <td>118.0</td>\n",
       "      <td>228.0</td>\n",
       "      <td>100.0</td>\n",
       "      <td>2.1705</td>\n",
       "    </tr>\n",
       "    <tr>\n",
       "      <th>16133</th>\n",
       "      <td>-122.49</td>\n",
       "      <td>37.78</td>\n",
       "      <td>32.0</td>\n",
       "      <td>3028.0</td>\n",
       "      <td>815.0</td>\n",
       "      <td>1704.0</td>\n",
       "      <td>718.0</td>\n",
       "      <td>3.2028</td>\n",
       "    </tr>\n",
       "    <tr>\n",
       "      <th>11198</th>\n",
       "      <td>-117.91</td>\n",
       "      <td>33.84</td>\n",
       "      <td>26.0</td>\n",
       "      <td>1156.0</td>\n",
       "      <td>393.0</td>\n",
       "      <td>1880.0</td>\n",
       "      <td>400.0</td>\n",
       "      <td>2.2716</td>\n",
       "    </tr>\n",
       "    <tr>\n",
       "      <th>3452</th>\n",
       "      <td>-118.42</td>\n",
       "      <td>34.31</td>\n",
       "      <td>19.0</td>\n",
       "      <td>6755.0</td>\n",
       "      <td>1443.0</td>\n",
       "      <td>4205.0</td>\n",
       "      <td>1395.0</td>\n",
       "      <td>3.9583</td>\n",
       "    </tr>\n",
       "    <tr>\n",
       "      <th>5617</th>\n",
       "      <td>-118.26</td>\n",
       "      <td>33.79</td>\n",
       "      <td>42.0</td>\n",
       "      <td>1162.0</td>\n",
       "      <td>264.0</td>\n",
       "      <td>1044.0</td>\n",
       "      <td>241.0</td>\n",
       "      <td>3.5488</td>\n",
       "    </tr>\n",
       "    <tr>\n",
       "      <th>...</th>\n",
       "      <td>...</td>\n",
       "      <td>...</td>\n",
       "      <td>...</td>\n",
       "      <td>...</td>\n",
       "      <td>...</td>\n",
       "      <td>...</td>\n",
       "      <td>...</td>\n",
       "      <td>...</td>\n",
       "    </tr>\n",
       "    <tr>\n",
       "      <th>16247</th>\n",
       "      <td>-121.27</td>\n",
       "      <td>37.98</td>\n",
       "      <td>43.0</td>\n",
       "      <td>1005.0</td>\n",
       "      <td>200.0</td>\n",
       "      <td>492.0</td>\n",
       "      <td>172.0</td>\n",
       "      <td>2.6812</td>\n",
       "    </tr>\n",
       "    <tr>\n",
       "      <th>2693</th>\n",
       "      <td>-115.39</td>\n",
       "      <td>32.76</td>\n",
       "      <td>16.0</td>\n",
       "      <td>1136.0</td>\n",
       "      <td>196.0</td>\n",
       "      <td>481.0</td>\n",
       "      <td>185.0</td>\n",
       "      <td>6.2558</td>\n",
       "    </tr>\n",
       "    <tr>\n",
       "      <th>8076</th>\n",
       "      <td>-118.19</td>\n",
       "      <td>33.83</td>\n",
       "      <td>30.0</td>\n",
       "      <td>2246.0</td>\n",
       "      <td>552.0</td>\n",
       "      <td>1032.0</td>\n",
       "      <td>548.0</td>\n",
       "      <td>3.5871</td>\n",
       "    </tr>\n",
       "    <tr>\n",
       "      <th>20213</th>\n",
       "      <td>-119.22</td>\n",
       "      <td>34.28</td>\n",
       "      <td>33.0</td>\n",
       "      <td>2467.0</td>\n",
       "      <td>377.0</td>\n",
       "      <td>1052.0</td>\n",
       "      <td>363.0</td>\n",
       "      <td>4.7333</td>\n",
       "    </tr>\n",
       "    <tr>\n",
       "      <th>7624</th>\n",
       "      <td>-118.26</td>\n",
       "      <td>33.85</td>\n",
       "      <td>24.0</td>\n",
       "      <td>9071.0</td>\n",
       "      <td>1335.0</td>\n",
       "      <td>4558.0</td>\n",
       "      <td>1327.0</td>\n",
       "      <td>5.5420</td>\n",
       "    </tr>\n",
       "  </tbody>\n",
       "</table>\n",
       "<p>16512 rows × 8 columns</p>\n",
       "</div>"
      ],
      "text/plain": [
       "       longitude  latitude  housing_median_age  total_rooms  total_bedrooms  \\\n",
       "437      -122.30     37.87                10.0        503.0           118.0   \n",
       "16133    -122.49     37.78                32.0       3028.0           815.0   \n",
       "11198    -117.91     33.84                26.0       1156.0           393.0   \n",
       "3452     -118.42     34.31                19.0       6755.0          1443.0   \n",
       "5617     -118.26     33.79                42.0       1162.0           264.0   \n",
       "...          ...       ...                 ...          ...             ...   \n",
       "16247    -121.27     37.98                43.0       1005.0           200.0   \n",
       "2693     -115.39     32.76                16.0       1136.0           196.0   \n",
       "8076     -118.19     33.83                30.0       2246.0           552.0   \n",
       "20213    -119.22     34.28                33.0       2467.0           377.0   \n",
       "7624     -118.26     33.85                24.0       9071.0          1335.0   \n",
       "\n",
       "       population  households  median_income  \n",
       "437         228.0       100.0         2.1705  \n",
       "16133      1704.0       718.0         3.2028  \n",
       "11198      1880.0       400.0         2.2716  \n",
       "3452       4205.0      1395.0         3.9583  \n",
       "5617       1044.0       241.0         3.5488  \n",
       "...           ...         ...            ...  \n",
       "16247       492.0       172.0         2.6812  \n",
       "2693        481.0       185.0         6.2558  \n",
       "8076       1032.0       548.0         3.5871  \n",
       "20213      1052.0       363.0         4.7333  \n",
       "7624       4558.0      1327.0         5.5420  \n",
       "\n",
       "[16512 rows x 8 columns]"
      ]
     },
     "execution_count": 58,
     "metadata": {},
     "output_type": "execute_result"
    }
   ],
   "source": [
    "X_train"
   ]
  },
  {
   "cell_type": "code",
   "execution_count": 59,
   "id": "ff090d80",
   "metadata": {},
   "outputs": [
    {
     "name": "stdout",
     "output_type": "stream",
     "text": [
      "\n",
      " ................Lasso Model......................\n",
      "The train score for lasso model is 0.6370030239702078\n"
     ]
    }
   ],
   "source": [
    "# Lasso regression model\n",
    "print(\"\\n ................Lasso Model......................\")\n",
    "lasso=Lasso(alpha=0.1)\n",
    "lasso.fit(X_train, y_train)\n",
    "train_score_ls = lasso.score(X_train, y_train)\n",
    "print(\"The train score for lasso model is {}\".format(train_score_ls))\n"
   ]
  },
  {
   "cell_type": "code",
   "execution_count": null,
   "id": "a2edcd57",
   "metadata": {},
   "outputs": [],
   "source": []
  },
  {
   "cell_type": "code",
   "execution_count": 60,
   "id": "995fb35a",
   "metadata": {},
   "outputs": [
    {
     "name": "stdout",
     "output_type": "stream",
     "text": [
      "\n",
      " Ridge Model...........................\n",
      "\n",
      "The train score for ridge model is 0.6370030239409876\n"
     ]
    }
   ],
   "source": [
    "#Ridege regression model\n",
    "print(\"\\n Ridge Model...........................\\n\")\n",
    "ridgeReg=Ridge(alpha=0.1)\n",
    "ridgeReg.fit(X_train, y_train)\n",
    "train_score_ridge=ridgeReg.score(X_train, y_train)\n",
    "print(\"The train score for ridge model is {}\".format(train_score_ridge))\n"
   ]
  },
  {
   "cell_type": "code",
   "execution_count": 61,
   "id": "b2508e6f",
   "metadata": {},
   "outputs": [],
   "source": [
    "#ElasticNet Regression Model\n",
    "enet_model=ElasticNet(alpha=0.1).fit(X_train,y_train)\n",
    "train_enet_score=enet_model.score(X_train,y_train)"
   ]
  },
  {
   "cell_type": "code",
   "execution_count": 62,
   "id": "a2075c14",
   "metadata": {},
   "outputs": [],
   "source": [
    "# Testing a model on testing data set\n",
    "LR_test_score=LR.score(X_test,y_test)\n",
    "lasso_test_score=lasso.score(X_test,y_test)\n",
    "Ridge_test_score=ridgeReg.score(X_test,y_test)\n",
    "enet_test_score=enet_model.score(X_test,y_test)\n",
    "result=pd.DataFrame({'LR score':[train_score_LR,LR_test_score],\n",
    "                    'Lasso score':[train_score_ls,lasso_test_score],\n",
    "                    'Ridege score':[train_score_ridge,Ridge_test_score],\n",
    "                     'Enet score':[train_enet_score, enet_test_score]},\n",
    "                   index=[\"Train Score\", \"Test Score\"])"
   ]
  },
  {
   "cell_type": "code",
   "execution_count": 63,
   "id": "b2474414",
   "metadata": {},
   "outputs": [
    {
     "name": "stdout",
     "output_type": "stream",
     "text": [
      "             LR score  Lasso score  Ridege score  Enet score\n",
      "Train Score  0.637003     0.637003      0.637003    0.635333\n",
      "Test Score   0.629530     0.629530      0.629530    0.626684\n"
     ]
    }
   ],
   "source": [
    "print(result)"
   ]
  },
  {
   "cell_type": "code",
   "execution_count": 64,
   "id": "de482aa1",
   "metadata": {},
   "outputs": [
    {
     "data": {
      "image/png": "[encoded data removed]",
      "text/plain": [
       "<Figure size 600x600 with 1 Axes>"
      ]
     },
     "metadata": {},
     "output_type": "display_data"
    }
   ],
   "source": [
    "#Lets plot the coefficients for both the linear and ridge models.\n",
    "plt.figure(figsize=(6,6))\n",
    "plt.plot(X.columns, ridgeReg.coef_,alpha=1,linestyle='none',\n",
    "        marker='*',markersize=5, color='red',label=r'Ridege;$\\alpha=0.1$',zorder=7)\n",
    "\n",
    "plt.plot(X.columns, LR.coef_,alpha=0.6,linestyle='none',\n",
    "        marker='o',markersize=7, color='green',label='Linear Regression')\n",
    "\n",
    "plt.plot(X.columns, lasso.coef_,alpha=0.8,linestyle='none',\n",
    "        marker='x',markersize=9, color='blue',label='Lasso Regression')\n",
    "\n",
    "plt.plot(X.columns, enet_model.coef_,alpha=0.9,linestyle='none',\n",
    "        marker='d',markersize=10, color='magenta',label='ElasticNet Regression')\n",
    "\n",
    "plt.xticks(rotation=45)\n",
    "plt.title(\"Comparing the coefficient values of LR, LAsso, Ridge, Enet models\")\n",
    "plt.legend()\n",
    "plt.show()"
   ]
  },
  {
   "cell_type": "markdown",
   "id": "906acae6",
   "metadata": {},
   "source": [
    "## Using Cross Validation"
   ]
  },
  {
   "cell_type": "code",
   "execution_count": 65,
   "id": "7d79c4d4",
   "metadata": {},
   "outputs": [],
   "source": [
    "from sklearn.linear_model import LassoCV, RidgeCV, ElasticNetCV"
   ]
  },
  {
   "cell_type": "code",
   "execution_count": 68,
   "id": "fa0dcef0",
   "metadata": {},
   "outputs": [
    {
     "name": "stdout",
     "output_type": "stream",
     "text": [
      "training score:0.63700297165533\n",
      "10.0\n"
     ]
    }
   ],
   "source": [
    "#Lasso Cross Validation\n",
    "from sklearn.linear_model import LassoCV, RidgeCV,ElasticNetCV\n",
    "lasso_cv=LassoCV(alphas=[0.0001, 0.0002, 0.0009,0.001,0.002,0.003,0.0035,0.0003,0.01,0.1,1,10],\n",
    "                random_state=10).fit(X_train,y_train)\n",
    "#\n",
    "print(f'training score:{lasso_cv.score(X_train,y_train)}')\n",
    "print(lasso_cv.alpha_)"
   ]
  },
  {
   "cell_type": "code",
   "execution_count": 69,
   "id": "6796b55e",
   "metadata": {},
   "outputs": [
    {
     "name": "stdout",
     "output_type": "stream",
     "text": [
      "The train score for ridge model is 0.6370030203263297\n",
      "1.0\n"
     ]
    }
   ],
   "source": [
    "#Ridge Cross Validation\n",
    "#Using the linear CV model\n",
    "from sklearn.linear_model import RidgeCV\n",
    "#Ridge Cross validation\n",
    "ridge_cv = RidgeCV(alphas = [0.0001,0.002, 0.001,0.01,0.02, 0.1, 1, 10,10.5,11,12,15,17,19,50,100,150],\n",
    "                    ).fit(X_train, y_train)\n",
    "#score\n",
    "print(\"The train score for ridge model is {}\".format(ridge_cv.score(X_train, y_train)))\n",
    "print(ridge_cv.alpha_)"
   ]
  },
  {
   "cell_type": "code",
   "execution_count": 70,
   "id": "8e6cf954",
   "metadata": {},
   "outputs": [
    {
     "name": "stdout",
     "output_type": "stream",
     "text": [
      "The train score for elasticnetCV model is 0.6370027900075649\n"
     ]
    },
    {
     "data": {
      "text/plain": [
       "0.001"
      ]
     },
     "execution_count": 70,
     "metadata": {},
     "output_type": "execute_result"
    }
   ],
   "source": [
    "#Using the ElasticNetCV CV model\n",
    "from sklearn.linear_model import ElasticNetCV\n",
    "\n",
    "#ElasticNetCV Cross validation\n",
    "ElasticNet_cv = ElasticNetCV(alphas = [0.0001, 0.001,0.002,0.0025,0.003,0.035,0.01, 0.1, 1, 10]).fit(X_train, y_train)\n",
    "\n",
    "#score\n",
    "print(\"The train score for elasticnetCV model is {}\".format(ElasticNet_cv.score(X_train, y_train)))\n",
    "ElasticNet_cv.alpha_"
   ]
  },
  {
   "cell_type": "code",
   "execution_count": 71,
   "id": "1940d43d",
   "metadata": {},
   "outputs": [
    {
     "data": {
      "text/plain": [
       "1.3862943611198906"
      ]
     },
     "execution_count": 71,
     "metadata": {},
     "output_type": "execute_result"
    }
   ],
   "source": [
    "np.log(4)"
   ]
  },
  {
   "cell_type": "code",
   "execution_count": 90,
   "id": "9aa7cec4",
   "metadata": {},
   "outputs": [
    {
     "data": {
      "text/plain": [
       "array([1.00000000e-04, 3.59381366e-04, 1.29154967e-03, 4.64158883e-03,\n",
       "       1.66810054e-02, 5.99484250e-02, 2.15443469e-01, 7.74263683e-01,\n",
       "       2.78255940e+00, 1.00000000e+01])"
      ]
     },
     "execution_count": 90,
     "metadata": {},
     "output_type": "execute_result"
    }
   ],
   "source": [
    "alpha = np.logspace(-4,-1,10)\n",
    "np.empty_like(alpha)"
   ]
  },
  {
   "cell_type": "code",
   "execution_count": 91,
   "id": "1a870f87",
   "metadata": {},
   "outputs": [
    {
     "name": "stdout",
     "output_type": "stream",
     "text": [
      "[0.0001     0.00021544 0.00046416 0.001      0.00215443 0.00464159\n",
      " 0.01       0.02154435 0.04641589 0.1       ]\n"
     ]
    }
   ],
   "source": [
    "print(alpha)"
   ]
  },
  {
   "cell_type": "code",
   "execution_count": 119,
   "id": "3aeefecc",
   "metadata": {},
   "outputs": [
    {
     "name": "stdout",
     "output_type": "stream",
     "text": [
      "[0.62952994 0.62952994 0.62952993 0.6295298  0.62952813 0.62950599\n",
      " 0.62911512 0.60656225 0.37713347 0.1033059 ]\n",
      "[1.00000000e-04 1.29154967e-03 1.66810054e-02 2.15443469e-01\n",
      " 2.78255940e+00 3.59381366e+01 4.64158883e+02 5.99484250e+03\n",
      " 7.74263683e+04 1.00000000e+06]\n"
     ]
    }
   ],
   "source": [
    "alphas = np.logspace(-4, 6, 10)\n",
    "scores = np.empty_like(alphas)\n",
    "for i,a in enumerate(alphas): \n",
    "    lasso = Lasso()\n",
    "    lasso.set_params(alpha=a)\n",
    "    lasso.fit(X_train, y_train)\n",
    "    scores[i] = lasso.score(X_test, y_test)\n",
    "print(scores)\n",
    "print(alphas)"
   ]
  },
  {
   "cell_type": "code",
   "execution_count": 120,
   "id": "c4d43f17",
   "metadata": {
    "scrolled": true
   },
   "outputs": [
    {
     "name": "stdout",
     "output_type": "stream",
     "text": [
      "33771.25390376377\n"
     ]
    },
    {
     "data": {
      "image/png": "[encoded data removed]",
      "text/plain": [
       "<Figure size 640x480 with 1 Axes>"
      ]
     },
     "metadata": {},
     "output_type": "display_data"
    }
   ],
   "source": [
    "# comparing alpha values with scores\n",
    "lassocv = LassoCV(random_state=0)\n",
    "lassocv.fit(X, y,)\n",
    "lassocv_score = lassocv.score(X, y)\n",
    "lassocv_alpha = lassocv.alpha_\n",
    "print(lassocv_alpha)\n",
    "plt.plot(alphas, scores, '-ko')\n",
    "plt.axhline(lassocv_score, color='b', ls='--')\n",
    "plt.axvline(lassocv_alpha, color='b', ls='--')\n",
    "plt.xlabel(r'$\\alpha$')\n",
    "plt.ylabel('Score')\n",
    "plt.xscale('log')\n",
    "sns.despine(offset=15)"
   ]
  },
  {
   "cell_type": "code",
   "execution_count": null,
   "id": "b2d2aaf8",
   "metadata": {},
   "outputs": [],
   "source": []
  },
  {
   "cell_type": "code",
   "execution_count": null,
   "id": "416ad874",
   "metadata": {},
   "outputs": [],
   "source": []
  },
  {
   "cell_type": "markdown",
   "id": "369a44e8",
   "metadata": {},
   "source": [
    "## Model Tuning"
   ]
  },
  {
   "cell_type": "code",
   "execution_count": 131,
   "id": "1bc6e06f",
   "metadata": {
    "collapsed": true
   },
   "outputs": [
    {
     "name": "stdout",
     "output_type": "stream",
     "text": [
      "{'fit_time': array([0.06860304, 0.16833115, 0.08272791, 0.06623507, 0.13329601]), 'score_time': array([0.00498652, 0.00465345, 0.00413203, 0.00524378, 0.00504017]), 'estimator': [Pipeline(steps=[('standardscaler', StandardScaler()),\n",
      "                ('ridgecv',\n",
      "                 RidgeCV(alphas=array([1.00000000e-03, 2.04335972e-03, 4.17531894e-03, 8.53167852e-03,\n",
      "       1.74332882e-02, 3.56224789e-02, 7.27895384e-02, 1.48735211e-01,\n",
      "       3.03919538e-01, 6.21016942e-01, 1.26896100e+00, 2.59294380e+00,\n",
      "       5.29831691e+00, 1.08263673e+01, 2.21221629e+01, 4.52035366e+01,\n",
      "       9.23670857e+01, 1.88739182e+02, 3.85662042e+02, 7.88046282e+02,\n",
      "       1.61026203e+03, 3.29034456e+03, 6.72335754e+03, 1.37382380e+04,\n",
      "       2.80721620e+04, 5.73615251e+04, 1.17210230e+05, 2.39502662e+05,\n",
      "       4.89390092e+05, 1.00000000e+06])))]), Pipeline(steps=[('standardscaler', StandardScaler()),\n",
      "                ('ridgecv',\n",
      "                 RidgeCV(alphas=array([1.00000000e-03, 2.04335972e-03, 4.17531894e-03, 8.53167852e-03,\n",
      "       1.74332882e-02, 3.56224789e-02, 7.27895384e-02, 1.48735211e-01,\n",
      "       3.03919538e-01, 6.21016942e-01, 1.26896100e+00, 2.59294380e+00,\n",
      "       5.29831691e+00, 1.08263673e+01, 2.21221629e+01, 4.52035366e+01,\n",
      "       9.23670857e+01, 1.88739182e+02, 3.85662042e+02, 7.88046282e+02,\n",
      "       1.61026203e+03, 3.29034456e+03, 6.72335754e+03, 1.37382380e+04,\n",
      "       2.80721620e+04, 5.73615251e+04, 1.17210230e+05, 2.39502662e+05,\n",
      "       4.89390092e+05, 1.00000000e+06])))]), Pipeline(steps=[('standardscaler', StandardScaler()),\n",
      "                ('ridgecv',\n",
      "                 RidgeCV(alphas=array([1.00000000e-03, 2.04335972e-03, 4.17531894e-03, 8.53167852e-03,\n",
      "       1.74332882e-02, 3.56224789e-02, 7.27895384e-02, 1.48735211e-01,\n",
      "       3.03919538e-01, 6.21016942e-01, 1.26896100e+00, 2.59294380e+00,\n",
      "       5.29831691e+00, 1.08263673e+01, 2.21221629e+01, 4.52035366e+01,\n",
      "       9.23670857e+01, 1.88739182e+02, 3.85662042e+02, 7.88046282e+02,\n",
      "       1.61026203e+03, 3.29034456e+03, 6.72335754e+03, 1.37382380e+04,\n",
      "       2.80721620e+04, 5.73615251e+04, 1.17210230e+05, 2.39502662e+05,\n",
      "       4.89390092e+05, 1.00000000e+06])))]), Pipeline(steps=[('standardscaler', StandardScaler()),\n",
      "                ('ridgecv',\n",
      "                 RidgeCV(alphas=array([1.00000000e-03, 2.04335972e-03, 4.17531894e-03, 8.53167852e-03,\n",
      "       1.74332882e-02, 3.56224789e-02, 7.27895384e-02, 1.48735211e-01,\n",
      "       3.03919538e-01, 6.21016942e-01, 1.26896100e+00, 2.59294380e+00,\n",
      "       5.29831691e+00, 1.08263673e+01, 2.21221629e+01, 4.52035366e+01,\n",
      "       9.23670857e+01, 1.88739182e+02, 3.85662042e+02, 7.88046282e+02,\n",
      "       1.61026203e+03, 3.29034456e+03, 6.72335754e+03, 1.37382380e+04,\n",
      "       2.80721620e+04, 5.73615251e+04, 1.17210230e+05, 2.39502662e+05,\n",
      "       4.89390092e+05, 1.00000000e+06])))]), Pipeline(steps=[('standardscaler', StandardScaler()),\n",
      "                ('ridgecv',\n",
      "                 RidgeCV(alphas=array([1.00000000e-03, 2.04335972e-03, 4.17531894e-03, 8.53167852e-03,\n",
      "       1.74332882e-02, 3.56224789e-02, 7.27895384e-02, 1.48735211e-01,\n",
      "       3.03919538e-01, 6.21016942e-01, 1.26896100e+00, 2.59294380e+00,\n",
      "       5.29831691e+00, 1.08263673e+01, 2.21221629e+01, 4.52035366e+01,\n",
      "       9.23670857e+01, 1.88739182e+02, 3.85662042e+02, 7.88046282e+02,\n",
      "       1.61026203e+03, 3.29034456e+03, 6.72335754e+03, 1.37382380e+04,\n",
      "       2.80721620e+04, 5.73615251e+04, 1.17210230e+05, 2.39502662e+05,\n",
      "       4.89390092e+05, 1.00000000e+06])))])], 'test_score': array([0.65222802, 0.64047977, 0.64165837, 0.60747812, 0.63767617])}\n"
     ]
    }
   ],
   "source": [
    "from sklearn.pipeline import make_pipeline\n",
    "from sklearn.model_selection import cross_validate\n",
    "alphas = np.logspace(-3, 6, num=30)\n",
    "model = make_pipeline(StandardScaler(), RidgeCV(alphas=alphas))\n",
    "cv_results = cross_validate(model,X_train,y_train, return_estimator=True, n_jobs=2) \n",
    "print(cv_results)"
   ]
  },
  {
   "cell_type": "code",
   "execution_count": 132,
   "id": "75cea766",
   "metadata": {},
   "outputs": [
    {
     "name": "stdout",
     "output_type": "stream",
     "text": [
      "[0.65222802 0.64047977 0.64165837 0.60747812 0.63767617]\n",
      "R2 score: 0.636 ± 0.015\n"
     ]
    }
   ],
   "source": [
    "score = cv_results[\"test_score\"]\n",
    "print(score)\n",
    "print(f\"R2 score: {score.mean():.3f} ± {score.std():.3f}\")"
   ]
  },
  {
   "cell_type": "code",
   "execution_count": 135,
   "id": "420cd118",
   "metadata": {
    "collapsed": true
   },
   "outputs": [
    {
     "name": "stdout",
     "output_type": "stream",
     "text": [
      "{'fit_time': array([0.15411949, 0.16085863, 0.14211845, 0.14411116, 0.13094401]), 'score_time': array([0.00474405, 0.00498748, 0.00399017, 0.00398803, 0.00403476]), 'estimator': [Pipeline(steps=[('normalizer', Normalizer()),\n",
      "                ('elasticnetcv',\n",
      "                 ElasticNetCV(alphas=array([1.00000000e-03, 2.04335972e-03, 4.17531894e-03, 8.53167852e-03,\n",
      "       1.74332882e-02, 3.56224789e-02, 7.27895384e-02, 1.48735211e-01,\n",
      "       3.03919538e-01, 6.21016942e-01, 1.26896100e+00, 2.59294380e+00,\n",
      "       5.29831691e+00, 1.08263673e+01, 2.21221629e+01, 4.52035366e+01,\n",
      "       9.23670857e+01, 1.88739182e+02, 3.85662042e+02, 7.88046282e+02,\n",
      "       1.61026203e+03, 3.29034456e+03, 6.72335754e+03, 1.37382380e+04,\n",
      "       2.80721620e+04, 5.73615251e+04, 1.17210230e+05, 2.39502662e+05,\n",
      "       4.89390092e+05, 1.00000000e+06])))]), Pipeline(steps=[('normalizer', Normalizer()),\n",
      "                ('elasticnetcv',\n",
      "                 ElasticNetCV(alphas=array([1.00000000e-03, 2.04335972e-03, 4.17531894e-03, 8.53167852e-03,\n",
      "       1.74332882e-02, 3.56224789e-02, 7.27895384e-02, 1.48735211e-01,\n",
      "       3.03919538e-01, 6.21016942e-01, 1.26896100e+00, 2.59294380e+00,\n",
      "       5.29831691e+00, 1.08263673e+01, 2.21221629e+01, 4.52035366e+01,\n",
      "       9.23670857e+01, 1.88739182e+02, 3.85662042e+02, 7.88046282e+02,\n",
      "       1.61026203e+03, 3.29034456e+03, 6.72335754e+03, 1.37382380e+04,\n",
      "       2.80721620e+04, 5.73615251e+04, 1.17210230e+05, 2.39502662e+05,\n",
      "       4.89390092e+05, 1.00000000e+06])))]), Pipeline(steps=[('normalizer', Normalizer()),\n",
      "                ('elasticnetcv',\n",
      "                 ElasticNetCV(alphas=array([1.00000000e-03, 2.04335972e-03, 4.17531894e-03, 8.53167852e-03,\n",
      "       1.74332882e-02, 3.56224789e-02, 7.27895384e-02, 1.48735211e-01,\n",
      "       3.03919538e-01, 6.21016942e-01, 1.26896100e+00, 2.59294380e+00,\n",
      "       5.29831691e+00, 1.08263673e+01, 2.21221629e+01, 4.52035366e+01,\n",
      "       9.23670857e+01, 1.88739182e+02, 3.85662042e+02, 7.88046282e+02,\n",
      "       1.61026203e+03, 3.29034456e+03, 6.72335754e+03, 1.37382380e+04,\n",
      "       2.80721620e+04, 5.73615251e+04, 1.17210230e+05, 2.39502662e+05,\n",
      "       4.89390092e+05, 1.00000000e+06])))]), Pipeline(steps=[('normalizer', Normalizer()),\n",
      "                ('elasticnetcv',\n",
      "                 ElasticNetCV(alphas=array([1.00000000e-03, 2.04335972e-03, 4.17531894e-03, 8.53167852e-03,\n",
      "       1.74332882e-02, 3.56224789e-02, 7.27895384e-02, 1.48735211e-01,\n",
      "       3.03919538e-01, 6.21016942e-01, 1.26896100e+00, 2.59294380e+00,\n",
      "       5.29831691e+00, 1.08263673e+01, 2.21221629e+01, 4.52035366e+01,\n",
      "       9.23670857e+01, 1.88739182e+02, 3.85662042e+02, 7.88046282e+02,\n",
      "       1.61026203e+03, 3.29034456e+03, 6.72335754e+03, 1.37382380e+04,\n",
      "       2.80721620e+04, 5.73615251e+04, 1.17210230e+05, 2.39502662e+05,\n",
      "       4.89390092e+05, 1.00000000e+06])))]), Pipeline(steps=[('normalizer', Normalizer()),\n",
      "                ('elasticnetcv',\n",
      "                 ElasticNetCV(alphas=array([1.00000000e-03, 2.04335972e-03, 4.17531894e-03, 8.53167852e-03,\n",
      "       1.74332882e-02, 3.56224789e-02, 7.27895384e-02, 1.48735211e-01,\n",
      "       3.03919538e-01, 6.21016942e-01, 1.26896100e+00, 2.59294380e+00,\n",
      "       5.29831691e+00, 1.08263673e+01, 2.21221629e+01, 4.52035366e+01,\n",
      "       9.23670857e+01, 1.88739182e+02, 3.85662042e+02, 7.88046282e+02,\n",
      "       1.61026203e+03, 3.29034456e+03, 6.72335754e+03, 1.37382380e+04,\n",
      "       2.80721620e+04, 5.73615251e+04, 1.17210230e+05, 2.39502662e+05,\n",
      "       4.89390092e+05, 1.00000000e+06])))])], 'test_score': array([0.20192022, 0.18404543, 0.17918609, 0.1783344 , 0.17837289])}\n"
     ]
    }
   ],
   "source": [
    "from sklearn.preprocessing import Normalizer\n",
    "alphas = np.logspace(-3, 6, num=30)\n",
    "model = make_pipeline(Normalizer(), ElasticNetCV(alphas=alphas))\n",
    "cv_results = cross_validate(model,X_train,y_train, return_estimator=True, n_jobs=2) \n",
    "print(cv_results)"
   ]
  },
  {
   "cell_type": "code",
   "execution_count": 137,
   "id": "2deda9b8",
   "metadata": {},
   "outputs": [
    {
     "name": "stdout",
     "output_type": "stream",
     "text": [
      "[0.20192022 0.18404543 0.17918609 0.1783344  0.17837289]\n",
      "R2 score: 0.184 ± 0.009\n"
     ]
    }
   ],
   "source": [
    "score = cv_results[\"test_score\"]\n",
    "print(score)\n",
    "print(f\"R2 score: {score.mean():.3f} ± {score.std():.3f}\")"
   ]
  },
  {
   "cell_type": "code",
   "execution_count": 138,
   "id": "037fa6f9",
   "metadata": {},
   "outputs": [
    {
     "name": "stdout",
     "output_type": "stream",
     "text": [
      "[0.65223205 0.64049611 0.64172282 0.60752675 0.63770734]\n",
      "R2 score: 0.636 ± 0.015\n"
     ]
    }
   ],
   "source": [
    "from sklearn.preprocessing import Normalizer\n",
    "alphas = np.logspace(-3, 6, num=30)\n",
    "model = make_pipeline(StandardScaler(), ElasticNetCV(alphas=alphas))\n",
    "cv_results = cross_validate(model,X_train,y_train, return_estimator=True, n_jobs=2) \n",
    "score = cv_results[\"test_score\"]\n",
    "print(score)\n",
    "print(f\"R2 score: {score.mean():.3f} ± {score.std():.3f}\")"
   ]
  },
  {
   "cell_type": "code",
   "execution_count": 143,
   "id": "20b623a1",
   "metadata": {},
   "outputs": [
    {
     "name": "stdout",
     "output_type": "stream",
     "text": [
      "C:\\Users\\SUJATA\n"
     ]
    }
   ],
   "source": []
  },
  {
   "cell_type": "code",
   "execution_count": null,
   "id": "e1c9bbe3",
   "metadata": {},
   "outputs": [],
   "source": []
  }
 ],
 "metadata": {
  "kernelspec": {
   "display_name": "Python 3 (ipykernel)",
   "language": "python",
   "name": "python3"
  },
  "language_info": {
   "codemirror_mode": {
    "name": "ipython",
    "version": 3
   },
   "file_extension": ".py",
   "mimetype": "text/x-python",
   "name": "python",
   "nbconvert_exporter": "python",
   "pygments_lexer": "ipython3",
   "version": "3.9.13"
  }
 },
 "nbformat": 4,
 "nbformat_minor": 5
}
